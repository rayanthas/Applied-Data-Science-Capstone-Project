{
 "cells": [
  {
   "cell_type": "markdown",
   "metadata": {},
   "source": [
    "# Data Science CapStone Project- Finding the Ideal Location to open a Pizzeria in Colombo Sri Lanka"
   ]
  },
  {
   "cell_type": "markdown",
   "metadata": {},
   "source": [
    "### The two objectives of this notebook are,\n",
    "\n",
    "1. Locate clusters of suburbs of the city with venue types that attract spending (on restaurants).\n",
    "2. In desirable clusters find suburbs that have low presence of casual and fast casual dining restaurants"
   ]
  },
  {
   "cell_type": "markdown",
   "metadata": {},
   "source": [
    "Import necessary libraries"
   ]
  },
  {
   "cell_type": "code",
   "execution_count": 1,
   "metadata": {},
   "outputs": [
    {
     "name": "stdout",
     "output_type": "stream",
     "text": [
      "Libraries imported.\n"
     ]
    }
   ],
   "source": [
    "import numpy as np # library to handle data in a vectorized manner\n",
    "\n",
    "import pandas as pd # library for data analsysis\n",
    "pd.set_option('display.max_columns', None)\n",
    "pd.set_option('display.max_rows', None)\n",
    "\n",
    "import json # library to handle JSON files\n",
    "\n",
    "#!conda install -c conda-forge geopy --yes # uncomment this line if you haven't completed the Foursquare API lab\n",
    "from geopy.geocoders import Nominatim # convert an address into latitude and longitude values\n",
    "from geopy.distance import distance\n",
    "\n",
    "\n",
    "import requests # library to handle requests\n",
    "from bs4 import BeautifulSoup\n",
    "from pandas.io.json import json_normalize # tranform JSON file into a pandas dataframe\n",
    "\n",
    "# Matplotlib and associated plotting modules\n",
    "import matplotlib.cm as cm\n",
    "import matplotlib.colors as colors\n",
    "import seaborn as sns\n",
    "\n",
    "# import k-means from clustering stage\n",
    "from sklearn.cluster import KMeans\n",
    "from sklearn.metrics import silhouette_samples, silhouette_score\n",
    "from sklearn import metrics \n",
    "from scipy.spatial.distance import cdist\n",
    "from sklearn.decomposition import PCA #Principal Component Analysis\n",
    "\n",
    "\n",
    "#!conda install -c conda-forge folium=0.5.0 --yes # uncomment this line if you haven't completed the Foursquare API lab\n",
    "import folium # map rendering library\n",
    "\n",
    "import matplotlib.pyplot as plt\n",
    "import matplotlib.cm as cm\n",
    "\n",
    "#plotly imports\n",
    "import plotly as py\n",
    "import plotly.graph_objs as go\n",
    "from plotly.offline import download_plotlyjs, init_notebook_mode, plot, iplot\n",
    "\n",
    "\n",
    "print('Libraries imported.')"
   ]
  },
  {
   "cell_type": "code",
   "execution_count": 2,
   "metadata": {},
   "outputs": [],
   "source": [
    "def get_lat_lng(address):\n",
    "    \"\"\"\n",
    "    This funtion is used to convert an address string to a latitude and logitude value.\n",
    "    \n",
    "    eg:- get_lat_lng('Toronto, Ontario')\n",
    "    \n",
    "    returns  43.6534817, -79.3839347\n",
    "    \"\"\"\n",
    "    \n",
    "    try:\n",
    "    \n",
    "        location = geolocator.geocode('{}, Colombo, Sri Lanka'.format(address))\n",
    "        latitude = location.latitude\n",
    "        longitude = location.longitude\n",
    "            \n",
    "        return latitude, longitude\n",
    "    \n",
    "    except:\n",
    "        return None, None"
   ]
  },
  {
   "cell_type": "code",
   "execution_count": 3,
   "metadata": {},
   "outputs": [],
   "source": [
    "def get_distance(lat1, lng1,lat2,lng2):\n",
    "    \"\"\"\n",
    "    Used to get the distance between two pairs of coordinates\n",
    "    \"\"\"\n",
    "    \n",
    "    sub=(lat1,lng1)\n",
    "    ven=(lat2,lng2)\n",
    "    \n",
    "    return distance(sub,ven).km"
   ]
  },
  {
   "cell_type": "code",
   "execution_count": 4,
   "metadata": {},
   "outputs": [],
   "source": [
    "def getNearbyVenues(names, latitudes, longitudes, radius=1000):\n",
    "    \"\"\"\n",
    "    For a given locality, latitude and longitude, venues within a specified radius and limit are returned\n",
    "    \"\"\"\n",
    "    \n",
    "    venues_list=[]\n",
    "    LIMIT=100\n",
    "    for name, lat, lng in zip(names, latitudes, longitudes):\n",
    "        print(name)\n",
    "            \n",
    "        # create the API request URL\n",
    "        url = 'https://api.foursquare.com/v2/venues/explore?&client_id={}&client_secret={}&v={}&ll={},{}&radius={}&limit={}'.format(\n",
    "            CLIENT_ID, \n",
    "            CLIENT_SECRET, \n",
    "            VERSION, \n",
    "            lat, \n",
    "            lng, \n",
    "            radius, \n",
    "            LIMIT)\n",
    "            \n",
    "        # make the GET request\n",
    "        results = requests.get(url).json()[\"response\"]['groups'][0]['items']\n",
    "        \n",
    "        # return only relevant information for each nearby venue\n",
    "        venues_list.append([(\n",
    "            name, \n",
    "            lat, \n",
    "            lng, \n",
    "            v['venue']['name'], \n",
    "            v['venue']['location']['lat'], \n",
    "            v['venue']['location']['lng'],  \n",
    "            v['venue']['categories'][0]['name']) for v in results])\n",
    "\n",
    "    nearby_venues = pd.DataFrame([item for venue_list in venues_list for item in venue_list])\n",
    "    nearby_venues.columns = ['Neighborhood', \n",
    "                  'Neighborhood Latitude', \n",
    "                  'Neighborhood Longitude', \n",
    "                  'Venue', \n",
    "                  'Venue Latitude', \n",
    "                  'Venue Longitude', \n",
    "                  'Venue Category']\n",
    "    \n",
    "    return(nearby_venues)"
   ]
  },
  {
   "cell_type": "code",
   "execution_count": 5,
   "metadata": {},
   "outputs": [],
   "source": [
    "def return_most_common_venues(row, num_top_venues):\n",
    "    \"\"\"Used to calculate the most common N venues in a locality\n",
    "    \"\"\"\n",
    "    row_categories = row.iloc[1:]\n",
    "    row_categories_sorted = row_categories.sort_values(ascending=False)\n",
    "    \n",
    "    return row_categories_sorted.index.values[0:num_top_venues]"
   ]
  },
  {
   "cell_type": "markdown",
   "metadata": {},
   "source": [
    "Get html data from wikipedia"
   ]
  },
  {
   "cell_type": "code",
   "execution_count": 6,
   "metadata": {},
   "outputs": [],
   "source": [
    "wiki_link='https://en.wikipedia.org/wiki/Category:Suburbs_of_Colombo'\n",
    "res=requests.get(wiki_link)\n",
    "if res.status_code==200:\n",
    "    soup=BeautifulSoup(res.text,'html.parser')\n",
    "else:\n",
    "    print(\"Scrape Failed. Retry!\\n\")"
   ]
  },
  {
   "cell_type": "code",
   "execution_count": 7,
   "metadata": {},
   "outputs": [],
   "source": [
    "#list to contain suburbs\n",
    "suburbs=[]"
   ]
  },
  {
   "cell_type": "code",
   "execution_count": 8,
   "metadata": {},
   "outputs": [],
   "source": [
    "#append suburbs onto list\n",
    "for x in soup.find_all(\"div\",class_=\"mw-category\")[0].find_all(\"li\"):\n",
    "    suburbs.append(x.text)"
   ]
  },
  {
   "cell_type": "code",
   "execution_count": 9,
   "metadata": {},
   "outputs": [],
   "source": [
    "#First item is not a suburb therefore it is dropped\n",
    "suburbs=suburbs[1:]"
   ]
  },
  {
   "cell_type": "markdown",
   "metadata": {},
   "source": [
    "Geo-Code Locations "
   ]
  },
  {
   "cell_type": "code",
   "execution_count": 10,
   "metadata": {},
   "outputs": [],
   "source": [
    "#A previously geocoded file of colombo suburbs is used \n",
    "colombo=pd.read_csv(\"Colombo.csv\")\n",
    "\n",
    "colombo=colombo[colombo.Suburb.isin(suburbs)]"
   ]
  },
  {
   "cell_type": "markdown",
   "metadata": {},
   "source": [
    "Map Areas"
   ]
  },
  {
   "cell_type": "code",
   "execution_count": 11,
   "metadata": {},
   "outputs": [],
   "source": [
    "#Define Colombo Latitude Longitude\n",
    "latitude=6.927079\n",
    "longitude=79.861244"
   ]
  },
  {
   "cell_type": "code",
   "execution_count": 12,
   "metadata": {},
   "outputs": [
    {
     "data": {
      "text/html": [
       "<div style=\"width:100%;\"><div style=\"position:relative;width:100%;height:0;padding-bottom:60%;\"><span style=\"color:#565656\">Make this Notebook Trusted to load map: File -> Trust Notebook</span><iframe src=\"about:blank\" style=\"position:absolute;width:100%;height:100%;left:0;top:0;border:none !important;\" data-html=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 onload=\"this.contentDocument.open();this.contentDocument.write(atob(this.getAttribute('data-html')));this.contentDocument.close();\" allowfullscreen webkitallowfullscreen mozallowfullscreen></iframe></div></div>"
      ],
      "text/plain": [
       "<folium.folium.Map at 0x21cbee0ae10>"
      ]
     },
     "execution_count": 12,
     "metadata": {},
     "output_type": "execute_result"
    }
   ],
   "source": [
    "# create map of Colombo using latitude and longitude values\n",
    "map_colombo = folium.Map(location=[latitude, longitude], zoom_start=11)\n",
    "\n",
    "# add markers to map\n",
    "for lat, lng, neighborhood in zip(colombo['Latitude'], colombo['Longitude'], colombo['Suburb']):\n",
    "    label = '{}'.format(neighborhood)\n",
    "    label = folium.Popup(label, parse_html=True)\n",
    "    folium.CircleMarker(\n",
    "        [lat, lng],\n",
    "        radius=5,\n",
    "        popup=label,\n",
    "        color='blue',\n",
    "        fill=True,\n",
    "        fill_color='#3186cc',\n",
    "        fill_opacity=0.7).add_to(map_colombo)  \n",
    "    \n",
    "map_colombo"
   ]
  },
  {
   "cell_type": "markdown",
   "metadata": {},
   "source": [
    "### Use FourSquare to obtain venue details"
   ]
  },
  {
   "cell_type": "markdown",
   "metadata": {},
   "source": [
    "Four Square credentials"
   ]
  },
  {
   "cell_type": "code",
   "execution_count": 13,
   "metadata": {},
   "outputs": [],
   "source": [
    "CLIENT_ID = 'D401AJGJPVCSSPFFCVAOAN2ZE2RRTF2OGQDP5OOTHJEXK5NR' # your Foursquare ID\n",
    "CLIENT_SECRET = 'ETW1QCU54RFBEILWBMCJ11PVGNLUWZMCUWQ5AVGVEHC220VV' # your Foursquare Secret\n",
    "VERSION = '20200304'"
   ]
  },
  {
   "cell_type": "markdown",
   "metadata": {},
   "source": [
    "Get venue details"
   ]
  },
  {
   "cell_type": "code",
   "execution_count": 30,
   "metadata": {},
   "outputs": [],
   "source": [
    "colombo_venues=pd.read_csv(\"colombo_venues.csv\")"
   ]
  },
  {
   "cell_type": "code",
   "execution_count": 19,
   "metadata": {
    "scrolled": true
   },
   "outputs": [
    {
     "name": "stdout",
     "output_type": "stream",
     "text": [
      "Athurugiriya\n",
      "Bambalapitiya\n",
      "Battaramulla\n",
      "Batuwatta\n",
      "Bloemendhal\n",
      "Boralesgamuwa\n",
      "Borella\n",
      "Cinnamon Gardens\n",
      "Colombo\n",
      "Dalugama\n",
      "Dehiwala\n",
      "Dehiwala-Mount Lavinia\n",
      "Dematagoda\n",
      "Fort (Colombo)\n",
      "Grandpass\n",
      "Havelock Town\n",
      "Hokandara\n",
      "Hulftsdorp\n",
      "Ja-Ela\n",
      "Kadawatha\n",
      "Kaduwela, Western Province\n",
      "Kahathuduwa\n",
      "Kalubowila\n",
      "Kandana\n",
      "Kelaniya\n",
      "Kiribathgoda\n",
      "Kirulapana\n",
      "Kohuwala\n",
      "Kollupitiya\n",
      "Kolonnawa\n",
      "Koswatte\n",
      "Kotahena\n",
      "Kotikawatta\n",
      "Kottawa\n",
      "Madampitiya\n",
      "Maha Nuge Gardens\n",
      "Maharagama\n",
      "Malabe\n",
      "Maradana\n",
      "Mattakkuliya\n",
      "Modara\n",
      "Moratuwa\n",
      "Mount-Lavinia\n",
      "Narahenpita\n",
      "Nawala\n",
      "Nugegoda\n",
      "Pamankada\n",
      "Panchikawatte\n",
      "Pannipitiya\n",
      "Pelawatte\n",
      "Peliyagoda\n",
      "Pettah, Sri Lanka\n",
      "Piliyandala\n",
      "Ragama\n",
      "Rajagiriya\n",
      "Ratmalana\n",
      "Slave Island\n",
      "Sri Jayawardenepura Kotte\n",
      "Template:Suburbs of Colombo\n",
      "Thalawathugoda\n",
      "Union Place\n",
      "Wattala\n",
      "Welikada\n",
      "Wellawatte\n",
      "Wickramasinhapura\n"
     ]
    }
   ],
   "source": [
    "colombo_venues = getNearbyVenues(names=colombo['Suburb'],\n",
    "                                   latitudes=colombo['Latitude'],\n",
    "                                   longitudes=colombo['Longitude']\n",
    "                              )"
   ]
  },
  {
   "cell_type": "code",
   "execution_count": 20,
   "metadata": {
    "scrolled": true
   },
   "outputs": [
    {
     "data": {
      "text/html": [
       "<div>\n",
       "<style scoped>\n",
       "    .dataframe tbody tr th:only-of-type {\n",
       "        vertical-align: middle;\n",
       "    }\n",
       "\n",
       "    .dataframe tbody tr th {\n",
       "        vertical-align: top;\n",
       "    }\n",
       "\n",
       "    .dataframe thead th {\n",
       "        text-align: right;\n",
       "    }\n",
       "</style>\n",
       "<table border=\"1\" class=\"dataframe\">\n",
       "  <thead>\n",
       "    <tr style=\"text-align: right;\">\n",
       "      <th></th>\n",
       "      <th>Neighborhood</th>\n",
       "      <th>Neighborhood Latitude</th>\n",
       "      <th>Neighborhood Longitude</th>\n",
       "      <th>Venue</th>\n",
       "      <th>Venue Latitude</th>\n",
       "      <th>Venue Longitude</th>\n",
       "      <th>Venue Category</th>\n",
       "    </tr>\n",
       "  </thead>\n",
       "  <tbody>\n",
       "    <tr>\n",
       "      <th>0</th>\n",
       "      <td>Athurugiriya</td>\n",
       "      <td>6.872318</td>\n",
       "      <td>80.000388</td>\n",
       "      <td>Old Athurugiriya Junction</td>\n",
       "      <td>6.868566</td>\n",
       "      <td>80.001166</td>\n",
       "      <td>Bus Stop</td>\n",
       "    </tr>\n",
       "    <tr>\n",
       "      <th>1</th>\n",
       "      <td>Athurugiriya</td>\n",
       "      <td>6.872318</td>\n",
       "      <td>80.000388</td>\n",
       "      <td>Araliya Hotel</td>\n",
       "      <td>6.868456</td>\n",
       "      <td>80.001416</td>\n",
       "      <td>Food Stand</td>\n",
       "    </tr>\n",
       "    <tr>\n",
       "      <th>2</th>\n",
       "      <td>Athurugiriya</td>\n",
       "      <td>6.872318</td>\n",
       "      <td>80.000388</td>\n",
       "      <td>Walgama Junction</td>\n",
       "      <td>6.869385</td>\n",
       "      <td>79.994476</td>\n",
       "      <td>Intersection</td>\n",
       "    </tr>\n",
       "    <tr>\n",
       "      <th>3</th>\n",
       "      <td>Bambalapitiya</td>\n",
       "      <td>6.904361</td>\n",
       "      <td>79.854040</td>\n",
       "      <td>99X Technology</td>\n",
       "      <td>6.905620</td>\n",
       "      <td>79.854946</td>\n",
       "      <td>IT Services</td>\n",
       "    </tr>\n",
       "    <tr>\n",
       "      <th>4</th>\n",
       "      <td>Bambalapitiya</td>\n",
       "      <td>6.904361</td>\n",
       "      <td>79.854040</td>\n",
       "      <td>The Cake Factory</td>\n",
       "      <td>6.905188</td>\n",
       "      <td>79.856409</td>\n",
       "      <td>Dessert Shop</td>\n",
       "    </tr>\n",
       "  </tbody>\n",
       "</table>\n",
       "</div>"
      ],
      "text/plain": [
       "    Neighborhood  Neighborhood Latitude  Neighborhood Longitude  \\\n",
       "0   Athurugiriya               6.872318               80.000388   \n",
       "1   Athurugiriya               6.872318               80.000388   \n",
       "2   Athurugiriya               6.872318               80.000388   \n",
       "3  Bambalapitiya               6.904361               79.854040   \n",
       "4  Bambalapitiya               6.904361               79.854040   \n",
       "\n",
       "                       Venue  Venue Latitude  Venue Longitude Venue Category  \n",
       "0  Old Athurugiriya Junction        6.868566        80.001166       Bus Stop  \n",
       "1              Araliya Hotel        6.868456        80.001416     Food Stand  \n",
       "2           Walgama Junction        6.869385        79.994476   Intersection  \n",
       "3             99X Technology        6.905620        79.854946    IT Services  \n",
       "4           The Cake Factory        6.905188        79.856409   Dessert Shop  "
      ]
     },
     "execution_count": 20,
     "metadata": {},
     "output_type": "execute_result"
    }
   ],
   "source": [
    "colombo_venues.head()"
   ]
  },
  {
   "cell_type": "code",
   "execution_count": 21,
   "metadata": {},
   "outputs": [
    {
     "data": {
      "text/plain": [
       "(1827, 7)"
      ]
     },
     "execution_count": 21,
     "metadata": {},
     "output_type": "execute_result"
    }
   ],
   "source": [
    "colombo_venues.shape"
   ]
  },
  {
   "cell_type": "markdown",
   "metadata": {},
   "source": [
    "Drop duplicated venues that fall into multiple suburbs"
   ]
  },
  {
   "cell_type": "code",
   "execution_count": 31,
   "metadata": {},
   "outputs": [],
   "source": [
    "colombo_venues['distance']=[get_distance(a,b,c,d) for a, b, c,d in zip(colombo_venues['Neighborhood Latitude'],colombo_venues['Neighborhood Longitude'],\n",
    "                                           colombo_venues['Venue Latitude'],colombo_venues['Neighborhood Longitude'])] \n",
    " "
   ]
  },
  {
   "cell_type": "code",
   "execution_count": 32,
   "metadata": {},
   "outputs": [],
   "source": [
    "#sort values by venue and distance\n",
    "colombo_venues.sort_values(by=['Venue','Venue Latitude','Venue Longitude','distance'],inplace=True)\n",
    "\n",
    "#drop duplicated values keeping first to ensure shortest distance\n",
    "colombo_venues.drop_duplicates(subset=['Venue','Venue Latitude','Venue Longitude'],keep='first',inplace=True)"
   ]
  },
  {
   "cell_type": "code",
   "execution_count": 33,
   "metadata": {},
   "outputs": [],
   "source": [
    "#Save Colombo venues for later use\n",
    "colombo_venues.to_csv(\"colombo_venues.csv\",index=False,encoding='utf-8')"
   ]
  },
  {
   "cell_type": "code",
   "execution_count": 34,
   "metadata": {},
   "outputs": [
    {
     "data": {
      "text/plain": [
       "(1160, 8)"
      ]
     },
     "execution_count": 34,
     "metadata": {},
     "output_type": "execute_result"
    }
   ],
   "source": [
    "colombo_venues.shape"
   ]
  },
  {
   "cell_type": "markdown",
   "metadata": {},
   "source": [
    "### Analyze Neighborhoods"
   ]
  },
  {
   "cell_type": "code",
   "execution_count": 41,
   "metadata": {},
   "outputs": [],
   "source": [
    "#one hot encoding venue categories and adding back neighborhod\n",
    "colombo_onehot=pd.get_dummies(colombo_venues[['Venue Category']], prefix=\"\", prefix_sep=\"\")\n",
    "colombo_onehot[\"Neighborhood\"]=colombo_venues.Neighborhood"
   ]
  },
  {
   "cell_type": "code",
   "execution_count": 42,
   "metadata": {},
   "outputs": [
    {
     "data": {
      "text/plain": [
       "(1160, 190)"
      ]
     },
     "execution_count": 42,
     "metadata": {},
     "output_type": "execute_result"
    }
   ],
   "source": [
    "colombo_onehot.shape"
   ]
  },
  {
   "cell_type": "markdown",
   "metadata": {},
   "source": [
    "### Picking variables that are important to the analysis"
   ]
  },
  {
   "cell_type": "code",
   "execution_count": 43,
   "metadata": {},
   "outputs": [],
   "source": [
    "variables=['Neighborhood',\n",
    " \n",
    " 'Accessories Store',\n",
    " 'Airport',\n",
    " 'Arcade',\n",
    " 'Art Gallery',\n",
    " 'Arts & Crafts Store',\n",
    " 'Asian Restaurant',\n",
    " \n",
    " 'BBQ Joint',\n",
    " \n",
    "\n",
    " 'Bakery',\n",
    " 'Bar',\n",
    " 'Beach',\n",
    " 'Bistro',\n",
    " 'Boat or Ferry',\n",
    " 'Boutique',\n",
    " 'Bowling Alley',\n",
    " 'Breakfast Spot',\n",
    " 'Brewery',\n",
    " 'Bubble Tea Shop',\n",
    " 'Burger Joint',\n",
    " 'Cafeteria',\n",
    " 'Café',\n",
    " 'Chinese Restaurant',\n",
    " 'Clothing Store',\n",
    " 'Cocktail Bar',\n",
    " 'Coffee Shop',\n",
    " 'Comfort Food Restaurant',\n",
    " 'Concert Hall',\n",
    " 'Cricket Ground',\n",
    " 'Cuban Restaurant',\n",
    " 'Cupcake Shop',\n",
    " 'Department Store',\n",
    " 'Design Studio',\n",
    " 'Dessert Shop',\n",
    " 'Diner',\n",
    " 'Donut Shop',\n",
    " 'Eastern European Restaurant',\n",
    " 'English Restaurant',\n",
    " 'Fast Food Restaurant',\n",
    " 'Fish & Chips Shop',\n",
    " 'Fondue Restaurant',\n",
    " 'Food',\n",
    " 'Food & Drink Shop',\n",
    " 'Food Court',\n",
    " 'Food Truck',\n",
    " 'French Restaurant',\n",
    " 'Garden',\n",
    " 'Gastropub',\n",
    " 'German Restaurant',\n",
    " 'Gift Shop',\n",
    " 'Golf Course',\n",
    " 'Gym',\n",
    " 'Gym / Fitness Center',\n",
    " 'Gym Pool',\n",
    " 'Hookah Bar',\n",
    " 'Hostel',\n",
    " 'Hotel Bar',\n",
    " 'Ice Cream Shop',\n",
    " 'Indian Restaurant',\n",
    " 'Irish Pub',\n",
    " 'Italian Restaurant',\n",
    " 'Japanese Restaurant',\n",
    " \n",
    " 'Juice Bar',\n",
    " 'Karaoke Bar',\n",
    " 'Kids Store',\n",
    " 'Lounge',\n",
    " 'Malay Restaurant',\n",
    " 'Mediterranean Restaurant',\n",
    " \"Men's Store\",\n",
    " 'Middle Eastern Restaurant',\n",
    " 'Movie Theater',\n",
    " 'Multiplex',\n",
    " 'Nightclub',\n",
    " 'Noodle House',\n",
    " 'North Indian Restaurant',\n",
    " 'Outdoors & Recreation',\n",
    " 'Outlet Store',\n",
    " 'Pakistani Restaurant',\n",
    " 'Park',\n",
    " 'Performing Arts Venue',\n",
    " 'Pier',\n",
    " 'Pizza Place',\n",
    " 'Platform',\n",
    "\n",
    " 'Pub',\n",
    " 'Racetrack',\n",
    " 'Recreation Center',\n",
    " 'Restaurant',\n",
    " 'Sandwich Place',\n",
    " 'Seafood Restaurant',\n",
    "\n",
    " 'Shop & Service',\n",
    " 'Shopping Mall',\n",
    " 'Shopping Plaza',\n",
    " 'Snack Place',\n",
    " 'South Indian Restaurant',\n",
    " 'Sri Lankan Restaurant',\n",
    " 'Stadium',\n",
    " 'Stationery Store',\n",
    " 'Steakhouse',\n",
    " 'Supermarket',\n",
    " 'Sushi Restaurant',\n",
    " 'Taco Place',\n",
    " 'Tapas Restaurant',\n",
    " 'Tea Room',\n",
    " 'Tennis Court',\n",
    " 'Tennis Stadium',\n",
    " 'Thai Restaurant',\n",
    " 'Theater',\n",
    " 'Theme Park',\n",
    "\n",
    " 'Vegetarian / Vegan Restaurant',\n",
    "\n",
    " 'Vietnamese Restaurant',\n",
    " \n",
    " \"Women's Store\",\n",
    " 'Zoo']\n",
    "colombo_onehot=colombo_onehot[variables]"
   ]
  },
  {
   "cell_type": "code",
   "execution_count": 39,
   "metadata": {},
   "outputs": [
    {
     "data": {
      "text/plain": [
       "111"
      ]
     },
     "execution_count": 39,
     "metadata": {},
     "output_type": "execute_result"
    }
   ],
   "source": [
    "len(variables)"
   ]
  },
  {
   "cell_type": "code",
   "execution_count": 44,
   "metadata": {},
   "outputs": [],
   "source": [
    "#group venue category by neighborhood and get mean\n",
    "colombo_grouped = colombo_onehot.groupby('Neighborhood').mean().reset_index()"
   ]
  },
  {
   "cell_type": "code",
   "execution_count": 45,
   "metadata": {},
   "outputs": [
    {
     "data": {
      "text/html": [
       "<div>\n",
       "<style scoped>\n",
       "    .dataframe tbody tr th:only-of-type {\n",
       "        vertical-align: middle;\n",
       "    }\n",
       "\n",
       "    .dataframe tbody tr th {\n",
       "        vertical-align: top;\n",
       "    }\n",
       "\n",
       "    .dataframe thead th {\n",
       "        text-align: right;\n",
       "    }\n",
       "</style>\n",
       "<table border=\"1\" class=\"dataframe\">\n",
       "  <thead>\n",
       "    <tr style=\"text-align: right;\">\n",
       "      <th></th>\n",
       "      <th>Neighborhood</th>\n",
       "      <th>Accessories Store</th>\n",
       "      <th>Airport</th>\n",
       "      <th>Arcade</th>\n",
       "      <th>Art Gallery</th>\n",
       "      <th>Arts &amp; Crafts Store</th>\n",
       "      <th>Asian Restaurant</th>\n",
       "      <th>BBQ Joint</th>\n",
       "      <th>Bakery</th>\n",
       "      <th>Bar</th>\n",
       "      <th>Beach</th>\n",
       "      <th>Bistro</th>\n",
       "      <th>Boat or Ferry</th>\n",
       "      <th>Boutique</th>\n",
       "      <th>Bowling Alley</th>\n",
       "      <th>Breakfast Spot</th>\n",
       "      <th>Brewery</th>\n",
       "      <th>Bubble Tea Shop</th>\n",
       "      <th>Burger Joint</th>\n",
       "      <th>Cafeteria</th>\n",
       "      <th>Café</th>\n",
       "      <th>Chinese Restaurant</th>\n",
       "      <th>Clothing Store</th>\n",
       "      <th>Cocktail Bar</th>\n",
       "      <th>Coffee Shop</th>\n",
       "      <th>Comfort Food Restaurant</th>\n",
       "      <th>Concert Hall</th>\n",
       "      <th>Cricket Ground</th>\n",
       "      <th>Cuban Restaurant</th>\n",
       "      <th>Cupcake Shop</th>\n",
       "      <th>Department Store</th>\n",
       "      <th>Design Studio</th>\n",
       "      <th>Dessert Shop</th>\n",
       "      <th>Diner</th>\n",
       "      <th>Donut Shop</th>\n",
       "      <th>Eastern European Restaurant</th>\n",
       "      <th>English Restaurant</th>\n",
       "      <th>Fast Food Restaurant</th>\n",
       "      <th>Fish &amp; Chips Shop</th>\n",
       "      <th>Fondue Restaurant</th>\n",
       "      <th>Food</th>\n",
       "      <th>Food &amp; Drink Shop</th>\n",
       "      <th>Food Court</th>\n",
       "      <th>Food Truck</th>\n",
       "      <th>French Restaurant</th>\n",
       "      <th>Garden</th>\n",
       "      <th>Gastropub</th>\n",
       "      <th>German Restaurant</th>\n",
       "      <th>Gift Shop</th>\n",
       "      <th>Golf Course</th>\n",
       "      <th>Gym</th>\n",
       "      <th>Gym / Fitness Center</th>\n",
       "      <th>Gym Pool</th>\n",
       "      <th>Hookah Bar</th>\n",
       "      <th>Hostel</th>\n",
       "      <th>Hotel Bar</th>\n",
       "      <th>Ice Cream Shop</th>\n",
       "      <th>Indian Restaurant</th>\n",
       "      <th>Irish Pub</th>\n",
       "      <th>Italian Restaurant</th>\n",
       "      <th>Japanese Restaurant</th>\n",
       "      <th>Juice Bar</th>\n",
       "      <th>Karaoke Bar</th>\n",
       "      <th>Kids Store</th>\n",
       "      <th>Lounge</th>\n",
       "      <th>Malay Restaurant</th>\n",
       "      <th>Mediterranean Restaurant</th>\n",
       "      <th>Men's Store</th>\n",
       "      <th>Middle Eastern Restaurant</th>\n",
       "      <th>Movie Theater</th>\n",
       "      <th>Multiplex</th>\n",
       "      <th>Nightclub</th>\n",
       "      <th>Noodle House</th>\n",
       "      <th>North Indian Restaurant</th>\n",
       "      <th>Outdoors &amp; Recreation</th>\n",
       "      <th>Outlet Store</th>\n",
       "      <th>Pakistani Restaurant</th>\n",
       "      <th>Park</th>\n",
       "      <th>Performing Arts Venue</th>\n",
       "      <th>Pier</th>\n",
       "      <th>Pizza Place</th>\n",
       "      <th>Platform</th>\n",
       "      <th>Pub</th>\n",
       "      <th>Racetrack</th>\n",
       "      <th>Recreation Center</th>\n",
       "      <th>Restaurant</th>\n",
       "      <th>Sandwich Place</th>\n",
       "      <th>Seafood Restaurant</th>\n",
       "      <th>Shop &amp; Service</th>\n",
       "      <th>Shopping Mall</th>\n",
       "      <th>Shopping Plaza</th>\n",
       "      <th>Snack Place</th>\n",
       "      <th>South Indian Restaurant</th>\n",
       "      <th>Sri Lankan Restaurant</th>\n",
       "      <th>Stadium</th>\n",
       "      <th>Stationery Store</th>\n",
       "      <th>Steakhouse</th>\n",
       "      <th>Supermarket</th>\n",
       "      <th>Sushi Restaurant</th>\n",
       "      <th>Taco Place</th>\n",
       "      <th>Tapas Restaurant</th>\n",
       "      <th>Tea Room</th>\n",
       "      <th>Tennis Court</th>\n",
       "      <th>Tennis Stadium</th>\n",
       "      <th>Thai Restaurant</th>\n",
       "      <th>Theater</th>\n",
       "      <th>Theme Park</th>\n",
       "      <th>Vegetarian / Vegan Restaurant</th>\n",
       "      <th>Vietnamese Restaurant</th>\n",
       "      <th>Women's Store</th>\n",
       "      <th>Zoo</th>\n",
       "    </tr>\n",
       "  </thead>\n",
       "  <tbody>\n",
       "    <tr>\n",
       "      <th>0</th>\n",
       "      <td>Athurugiriya</td>\n",
       "      <td>0.0</td>\n",
       "      <td>0.0</td>\n",
       "      <td>0.0</td>\n",
       "      <td>0.000000</td>\n",
       "      <td>0.0</td>\n",
       "      <td>0.000000</td>\n",
       "      <td>0.0</td>\n",
       "      <td>0.000000</td>\n",
       "      <td>0.0</td>\n",
       "      <td>0.0</td>\n",
       "      <td>0.0</td>\n",
       "      <td>0.0</td>\n",
       "      <td>0.000000</td>\n",
       "      <td>0.0</td>\n",
       "      <td>0.0</td>\n",
       "      <td>0.0</td>\n",
       "      <td>0.000000</td>\n",
       "      <td>0.0</td>\n",
       "      <td>0.0</td>\n",
       "      <td>0.000000</td>\n",
       "      <td>0.000000</td>\n",
       "      <td>0.000000</td>\n",
       "      <td>0.0</td>\n",
       "      <td>0.000000</td>\n",
       "      <td>0.0</td>\n",
       "      <td>0.0</td>\n",
       "      <td>0.0</td>\n",
       "      <td>0.0</td>\n",
       "      <td>0.000000</td>\n",
       "      <td>0.000000</td>\n",
       "      <td>0.0</td>\n",
       "      <td>0.000000</td>\n",
       "      <td>0.0</td>\n",
       "      <td>0.0</td>\n",
       "      <td>0.0</td>\n",
       "      <td>0.0</td>\n",
       "      <td>0.000000</td>\n",
       "      <td>0.0</td>\n",
       "      <td>0.0</td>\n",
       "      <td>0.000000</td>\n",
       "      <td>0.000000</td>\n",
       "      <td>0.0</td>\n",
       "      <td>0.0</td>\n",
       "      <td>0.0</td>\n",
       "      <td>0.000000</td>\n",
       "      <td>0.000000</td>\n",
       "      <td>0.0</td>\n",
       "      <td>0.0</td>\n",
       "      <td>0.0</td>\n",
       "      <td>0.0</td>\n",
       "      <td>0.0</td>\n",
       "      <td>0.0</td>\n",
       "      <td>0.0</td>\n",
       "      <td>0.000000</td>\n",
       "      <td>0.0</td>\n",
       "      <td>0.0</td>\n",
       "      <td>0.000000</td>\n",
       "      <td>0.0</td>\n",
       "      <td>0.000000</td>\n",
       "      <td>0.0</td>\n",
       "      <td>0.0</td>\n",
       "      <td>0.0</td>\n",
       "      <td>0.0</td>\n",
       "      <td>0.000000</td>\n",
       "      <td>0.0</td>\n",
       "      <td>0.0</td>\n",
       "      <td>0.000000</td>\n",
       "      <td>0.000000</td>\n",
       "      <td>0.0</td>\n",
       "      <td>0.000000</td>\n",
       "      <td>0.000000</td>\n",
       "      <td>0.0</td>\n",
       "      <td>0.0</td>\n",
       "      <td>0.000000</td>\n",
       "      <td>0.0</td>\n",
       "      <td>0.0</td>\n",
       "      <td>0.0</td>\n",
       "      <td>0.0</td>\n",
       "      <td>0.0</td>\n",
       "      <td>0.0</td>\n",
       "      <td>0.0</td>\n",
       "      <td>0.0</td>\n",
       "      <td>0.0</td>\n",
       "      <td>0.0</td>\n",
       "      <td>0.000000</td>\n",
       "      <td>0.0</td>\n",
       "      <td>0.000000</td>\n",
       "      <td>0.0</td>\n",
       "      <td>0.000000</td>\n",
       "      <td>0.0</td>\n",
       "      <td>0.0</td>\n",
       "      <td>0.0</td>\n",
       "      <td>0.000000</td>\n",
       "      <td>0.0</td>\n",
       "      <td>0.0</td>\n",
       "      <td>0.0</td>\n",
       "      <td>0.0</td>\n",
       "      <td>0.0</td>\n",
       "      <td>0.0</td>\n",
       "      <td>0.0</td>\n",
       "      <td>0.0</td>\n",
       "      <td>0.0</td>\n",
       "      <td>0.0</td>\n",
       "      <td>0.000000</td>\n",
       "      <td>0.000000</td>\n",
       "      <td>0.0</td>\n",
       "      <td>0.0</td>\n",
       "      <td>0.0</td>\n",
       "      <td>0.0</td>\n",
       "      <td>0.0</td>\n",
       "    </tr>\n",
       "    <tr>\n",
       "      <th>1</th>\n",
       "      <td>Bambalapitiya</td>\n",
       "      <td>0.0</td>\n",
       "      <td>0.0</td>\n",
       "      <td>0.0</td>\n",
       "      <td>0.027778</td>\n",
       "      <td>0.0</td>\n",
       "      <td>0.013889</td>\n",
       "      <td>0.0</td>\n",
       "      <td>0.041667</td>\n",
       "      <td>0.0</td>\n",
       "      <td>0.0</td>\n",
       "      <td>0.0</td>\n",
       "      <td>0.0</td>\n",
       "      <td>0.013889</td>\n",
       "      <td>0.0</td>\n",
       "      <td>0.0</td>\n",
       "      <td>0.0</td>\n",
       "      <td>0.013889</td>\n",
       "      <td>0.0</td>\n",
       "      <td>0.0</td>\n",
       "      <td>0.055556</td>\n",
       "      <td>0.055556</td>\n",
       "      <td>0.027778</td>\n",
       "      <td>0.0</td>\n",
       "      <td>0.069444</td>\n",
       "      <td>0.0</td>\n",
       "      <td>0.0</td>\n",
       "      <td>0.0</td>\n",
       "      <td>0.0</td>\n",
       "      <td>0.013889</td>\n",
       "      <td>0.000000</td>\n",
       "      <td>0.0</td>\n",
       "      <td>0.055556</td>\n",
       "      <td>0.0</td>\n",
       "      <td>0.0</td>\n",
       "      <td>0.0</td>\n",
       "      <td>0.0</td>\n",
       "      <td>0.027778</td>\n",
       "      <td>0.0</td>\n",
       "      <td>0.0</td>\n",
       "      <td>0.000000</td>\n",
       "      <td>0.000000</td>\n",
       "      <td>0.0</td>\n",
       "      <td>0.0</td>\n",
       "      <td>0.0</td>\n",
       "      <td>0.000000</td>\n",
       "      <td>0.013889</td>\n",
       "      <td>0.0</td>\n",
       "      <td>0.0</td>\n",
       "      <td>0.0</td>\n",
       "      <td>0.0</td>\n",
       "      <td>0.0</td>\n",
       "      <td>0.0</td>\n",
       "      <td>0.0</td>\n",
       "      <td>0.013889</td>\n",
       "      <td>0.0</td>\n",
       "      <td>0.0</td>\n",
       "      <td>0.013889</td>\n",
       "      <td>0.0</td>\n",
       "      <td>0.013889</td>\n",
       "      <td>0.0</td>\n",
       "      <td>0.0</td>\n",
       "      <td>0.0</td>\n",
       "      <td>0.0</td>\n",
       "      <td>0.013889</td>\n",
       "      <td>0.0</td>\n",
       "      <td>0.0</td>\n",
       "      <td>0.013889</td>\n",
       "      <td>0.013889</td>\n",
       "      <td>0.0</td>\n",
       "      <td>0.013889</td>\n",
       "      <td>0.013889</td>\n",
       "      <td>0.0</td>\n",
       "      <td>0.0</td>\n",
       "      <td>0.000000</td>\n",
       "      <td>0.0</td>\n",
       "      <td>0.0</td>\n",
       "      <td>0.0</td>\n",
       "      <td>0.0</td>\n",
       "      <td>0.0</td>\n",
       "      <td>0.0</td>\n",
       "      <td>0.0</td>\n",
       "      <td>0.0</td>\n",
       "      <td>0.0</td>\n",
       "      <td>0.0</td>\n",
       "      <td>0.041667</td>\n",
       "      <td>0.0</td>\n",
       "      <td>0.013889</td>\n",
       "      <td>0.0</td>\n",
       "      <td>0.013889</td>\n",
       "      <td>0.0</td>\n",
       "      <td>0.0</td>\n",
       "      <td>0.0</td>\n",
       "      <td>0.027778</td>\n",
       "      <td>0.0</td>\n",
       "      <td>0.0</td>\n",
       "      <td>0.0</td>\n",
       "      <td>0.0</td>\n",
       "      <td>0.0</td>\n",
       "      <td>0.0</td>\n",
       "      <td>0.0</td>\n",
       "      <td>0.0</td>\n",
       "      <td>0.0</td>\n",
       "      <td>0.0</td>\n",
       "      <td>0.027778</td>\n",
       "      <td>0.013889</td>\n",
       "      <td>0.0</td>\n",
       "      <td>0.0</td>\n",
       "      <td>0.0</td>\n",
       "      <td>0.0</td>\n",
       "      <td>0.0</td>\n",
       "    </tr>\n",
       "    <tr>\n",
       "      <th>2</th>\n",
       "      <td>Battaramulla</td>\n",
       "      <td>0.0</td>\n",
       "      <td>0.0</td>\n",
       "      <td>0.0</td>\n",
       "      <td>0.000000</td>\n",
       "      <td>0.0</td>\n",
       "      <td>0.058824</td>\n",
       "      <td>0.0</td>\n",
       "      <td>0.294118</td>\n",
       "      <td>0.0</td>\n",
       "      <td>0.0</td>\n",
       "      <td>0.0</td>\n",
       "      <td>0.0</td>\n",
       "      <td>0.000000</td>\n",
       "      <td>0.0</td>\n",
       "      <td>0.0</td>\n",
       "      <td>0.0</td>\n",
       "      <td>0.000000</td>\n",
       "      <td>0.0</td>\n",
       "      <td>0.0</td>\n",
       "      <td>0.000000</td>\n",
       "      <td>0.058824</td>\n",
       "      <td>0.000000</td>\n",
       "      <td>0.0</td>\n",
       "      <td>0.000000</td>\n",
       "      <td>0.0</td>\n",
       "      <td>0.0</td>\n",
       "      <td>0.0</td>\n",
       "      <td>0.0</td>\n",
       "      <td>0.000000</td>\n",
       "      <td>0.058824</td>\n",
       "      <td>0.0</td>\n",
       "      <td>0.000000</td>\n",
       "      <td>0.0</td>\n",
       "      <td>0.0</td>\n",
       "      <td>0.0</td>\n",
       "      <td>0.0</td>\n",
       "      <td>0.058824</td>\n",
       "      <td>0.0</td>\n",
       "      <td>0.0</td>\n",
       "      <td>0.058824</td>\n",
       "      <td>0.058824</td>\n",
       "      <td>0.0</td>\n",
       "      <td>0.0</td>\n",
       "      <td>0.0</td>\n",
       "      <td>0.058824</td>\n",
       "      <td>0.000000</td>\n",
       "      <td>0.0</td>\n",
       "      <td>0.0</td>\n",
       "      <td>0.0</td>\n",
       "      <td>0.0</td>\n",
       "      <td>0.0</td>\n",
       "      <td>0.0</td>\n",
       "      <td>0.0</td>\n",
       "      <td>0.000000</td>\n",
       "      <td>0.0</td>\n",
       "      <td>0.0</td>\n",
       "      <td>0.000000</td>\n",
       "      <td>0.0</td>\n",
       "      <td>0.058824</td>\n",
       "      <td>0.0</td>\n",
       "      <td>0.0</td>\n",
       "      <td>0.0</td>\n",
       "      <td>0.0</td>\n",
       "      <td>0.000000</td>\n",
       "      <td>0.0</td>\n",
       "      <td>0.0</td>\n",
       "      <td>0.000000</td>\n",
       "      <td>0.000000</td>\n",
       "      <td>0.0</td>\n",
       "      <td>0.000000</td>\n",
       "      <td>0.000000</td>\n",
       "      <td>0.0</td>\n",
       "      <td>0.0</td>\n",
       "      <td>0.058824</td>\n",
       "      <td>0.0</td>\n",
       "      <td>0.0</td>\n",
       "      <td>0.0</td>\n",
       "      <td>0.0</td>\n",
       "      <td>0.0</td>\n",
       "      <td>0.0</td>\n",
       "      <td>0.0</td>\n",
       "      <td>0.0</td>\n",
       "      <td>0.0</td>\n",
       "      <td>0.0</td>\n",
       "      <td>0.000000</td>\n",
       "      <td>0.0</td>\n",
       "      <td>0.000000</td>\n",
       "      <td>0.0</td>\n",
       "      <td>0.000000</td>\n",
       "      <td>0.0</td>\n",
       "      <td>0.0</td>\n",
       "      <td>0.0</td>\n",
       "      <td>0.000000</td>\n",
       "      <td>0.0</td>\n",
       "      <td>0.0</td>\n",
       "      <td>0.0</td>\n",
       "      <td>0.0</td>\n",
       "      <td>0.0</td>\n",
       "      <td>0.0</td>\n",
       "      <td>0.0</td>\n",
       "      <td>0.0</td>\n",
       "      <td>0.0</td>\n",
       "      <td>0.0</td>\n",
       "      <td>0.000000</td>\n",
       "      <td>0.000000</td>\n",
       "      <td>0.0</td>\n",
       "      <td>0.0</td>\n",
       "      <td>0.0</td>\n",
       "      <td>0.0</td>\n",
       "      <td>0.0</td>\n",
       "    </tr>\n",
       "    <tr>\n",
       "      <th>3</th>\n",
       "      <td>Batuwatta</td>\n",
       "      <td>0.0</td>\n",
       "      <td>0.0</td>\n",
       "      <td>0.0</td>\n",
       "      <td>0.000000</td>\n",
       "      <td>0.0</td>\n",
       "      <td>0.000000</td>\n",
       "      <td>0.0</td>\n",
       "      <td>0.000000</td>\n",
       "      <td>0.0</td>\n",
       "      <td>0.0</td>\n",
       "      <td>0.0</td>\n",
       "      <td>0.0</td>\n",
       "      <td>0.000000</td>\n",
       "      <td>0.0</td>\n",
       "      <td>0.0</td>\n",
       "      <td>0.0</td>\n",
       "      <td>0.000000</td>\n",
       "      <td>0.0</td>\n",
       "      <td>0.0</td>\n",
       "      <td>0.000000</td>\n",
       "      <td>0.000000</td>\n",
       "      <td>0.000000</td>\n",
       "      <td>0.0</td>\n",
       "      <td>0.000000</td>\n",
       "      <td>0.0</td>\n",
       "      <td>0.0</td>\n",
       "      <td>0.0</td>\n",
       "      <td>0.0</td>\n",
       "      <td>0.000000</td>\n",
       "      <td>0.000000</td>\n",
       "      <td>0.0</td>\n",
       "      <td>0.000000</td>\n",
       "      <td>0.0</td>\n",
       "      <td>0.0</td>\n",
       "      <td>0.0</td>\n",
       "      <td>0.0</td>\n",
       "      <td>0.000000</td>\n",
       "      <td>0.0</td>\n",
       "      <td>0.0</td>\n",
       "      <td>0.000000</td>\n",
       "      <td>0.000000</td>\n",
       "      <td>0.0</td>\n",
       "      <td>0.0</td>\n",
       "      <td>0.0</td>\n",
       "      <td>0.000000</td>\n",
       "      <td>0.000000</td>\n",
       "      <td>0.0</td>\n",
       "      <td>0.0</td>\n",
       "      <td>0.0</td>\n",
       "      <td>0.0</td>\n",
       "      <td>0.0</td>\n",
       "      <td>0.0</td>\n",
       "      <td>0.0</td>\n",
       "      <td>0.000000</td>\n",
       "      <td>0.0</td>\n",
       "      <td>0.0</td>\n",
       "      <td>0.000000</td>\n",
       "      <td>0.0</td>\n",
       "      <td>0.000000</td>\n",
       "      <td>0.0</td>\n",
       "      <td>0.0</td>\n",
       "      <td>0.0</td>\n",
       "      <td>0.0</td>\n",
       "      <td>0.000000</td>\n",
       "      <td>0.0</td>\n",
       "      <td>0.0</td>\n",
       "      <td>0.000000</td>\n",
       "      <td>0.000000</td>\n",
       "      <td>0.0</td>\n",
       "      <td>0.000000</td>\n",
       "      <td>0.000000</td>\n",
       "      <td>0.0</td>\n",
       "      <td>0.0</td>\n",
       "      <td>0.000000</td>\n",
       "      <td>0.0</td>\n",
       "      <td>0.0</td>\n",
       "      <td>0.0</td>\n",
       "      <td>0.0</td>\n",
       "      <td>0.0</td>\n",
       "      <td>0.0</td>\n",
       "      <td>0.0</td>\n",
       "      <td>0.0</td>\n",
       "      <td>0.0</td>\n",
       "      <td>0.0</td>\n",
       "      <td>0.000000</td>\n",
       "      <td>0.0</td>\n",
       "      <td>0.000000</td>\n",
       "      <td>0.0</td>\n",
       "      <td>0.000000</td>\n",
       "      <td>0.0</td>\n",
       "      <td>0.0</td>\n",
       "      <td>0.0</td>\n",
       "      <td>0.000000</td>\n",
       "      <td>0.0</td>\n",
       "      <td>0.0</td>\n",
       "      <td>0.0</td>\n",
       "      <td>0.0</td>\n",
       "      <td>0.0</td>\n",
       "      <td>0.0</td>\n",
       "      <td>0.0</td>\n",
       "      <td>0.0</td>\n",
       "      <td>0.0</td>\n",
       "      <td>0.0</td>\n",
       "      <td>0.000000</td>\n",
       "      <td>0.000000</td>\n",
       "      <td>0.0</td>\n",
       "      <td>0.0</td>\n",
       "      <td>0.0</td>\n",
       "      <td>0.0</td>\n",
       "      <td>0.0</td>\n",
       "    </tr>\n",
       "    <tr>\n",
       "      <th>4</th>\n",
       "      <td>Bloemendhal</td>\n",
       "      <td>0.0</td>\n",
       "      <td>0.0</td>\n",
       "      <td>0.0</td>\n",
       "      <td>0.000000</td>\n",
       "      <td>0.0</td>\n",
       "      <td>0.000000</td>\n",
       "      <td>0.0</td>\n",
       "      <td>0.000000</td>\n",
       "      <td>0.0</td>\n",
       "      <td>0.0</td>\n",
       "      <td>0.0</td>\n",
       "      <td>0.0</td>\n",
       "      <td>0.000000</td>\n",
       "      <td>0.0</td>\n",
       "      <td>0.0</td>\n",
       "      <td>0.0</td>\n",
       "      <td>0.000000</td>\n",
       "      <td>0.0</td>\n",
       "      <td>0.0</td>\n",
       "      <td>0.000000</td>\n",
       "      <td>0.000000</td>\n",
       "      <td>0.000000</td>\n",
       "      <td>0.0</td>\n",
       "      <td>0.000000</td>\n",
       "      <td>0.0</td>\n",
       "      <td>0.0</td>\n",
       "      <td>0.0</td>\n",
       "      <td>0.0</td>\n",
       "      <td>0.000000</td>\n",
       "      <td>0.000000</td>\n",
       "      <td>0.0</td>\n",
       "      <td>0.000000</td>\n",
       "      <td>0.0</td>\n",
       "      <td>0.0</td>\n",
       "      <td>0.0</td>\n",
       "      <td>0.0</td>\n",
       "      <td>0.000000</td>\n",
       "      <td>0.0</td>\n",
       "      <td>0.0</td>\n",
       "      <td>0.000000</td>\n",
       "      <td>0.000000</td>\n",
       "      <td>0.0</td>\n",
       "      <td>0.0</td>\n",
       "      <td>0.0</td>\n",
       "      <td>0.000000</td>\n",
       "      <td>0.000000</td>\n",
       "      <td>0.0</td>\n",
       "      <td>0.0</td>\n",
       "      <td>0.0</td>\n",
       "      <td>0.0</td>\n",
       "      <td>0.0</td>\n",
       "      <td>0.0</td>\n",
       "      <td>0.0</td>\n",
       "      <td>0.000000</td>\n",
       "      <td>0.0</td>\n",
       "      <td>0.0</td>\n",
       "      <td>0.000000</td>\n",
       "      <td>0.0</td>\n",
       "      <td>0.000000</td>\n",
       "      <td>0.0</td>\n",
       "      <td>0.0</td>\n",
       "      <td>0.0</td>\n",
       "      <td>0.0</td>\n",
       "      <td>0.000000</td>\n",
       "      <td>0.0</td>\n",
       "      <td>0.0</td>\n",
       "      <td>0.000000</td>\n",
       "      <td>0.000000</td>\n",
       "      <td>0.0</td>\n",
       "      <td>0.000000</td>\n",
       "      <td>0.000000</td>\n",
       "      <td>0.0</td>\n",
       "      <td>0.0</td>\n",
       "      <td>0.000000</td>\n",
       "      <td>0.0</td>\n",
       "      <td>0.0</td>\n",
       "      <td>0.0</td>\n",
       "      <td>0.0</td>\n",
       "      <td>0.0</td>\n",
       "      <td>0.0</td>\n",
       "      <td>0.0</td>\n",
       "      <td>0.0</td>\n",
       "      <td>0.0</td>\n",
       "      <td>0.0</td>\n",
       "      <td>0.000000</td>\n",
       "      <td>0.0</td>\n",
       "      <td>0.000000</td>\n",
       "      <td>0.0</td>\n",
       "      <td>0.000000</td>\n",
       "      <td>0.0</td>\n",
       "      <td>0.0</td>\n",
       "      <td>0.0</td>\n",
       "      <td>0.000000</td>\n",
       "      <td>0.0</td>\n",
       "      <td>0.0</td>\n",
       "      <td>0.0</td>\n",
       "      <td>0.0</td>\n",
       "      <td>0.0</td>\n",
       "      <td>0.0</td>\n",
       "      <td>0.0</td>\n",
       "      <td>0.0</td>\n",
       "      <td>0.0</td>\n",
       "      <td>0.0</td>\n",
       "      <td>0.000000</td>\n",
       "      <td>0.000000</td>\n",
       "      <td>0.0</td>\n",
       "      <td>0.0</td>\n",
       "      <td>0.0</td>\n",
       "      <td>0.0</td>\n",
       "      <td>0.0</td>\n",
       "    </tr>\n",
       "  </tbody>\n",
       "</table>\n",
       "</div>"
      ],
      "text/plain": [
       "    Neighborhood  Accessories Store  Airport  Arcade  Art Gallery  \\\n",
       "0   Athurugiriya                0.0      0.0     0.0     0.000000   \n",
       "1  Bambalapitiya                0.0      0.0     0.0     0.027778   \n",
       "2   Battaramulla                0.0      0.0     0.0     0.000000   \n",
       "3      Batuwatta                0.0      0.0     0.0     0.000000   \n",
       "4    Bloemendhal                0.0      0.0     0.0     0.000000   \n",
       "\n",
       "   Arts & Crafts Store  Asian Restaurant  BBQ Joint    Bakery  Bar  Beach  \\\n",
       "0                  0.0          0.000000        0.0  0.000000  0.0    0.0   \n",
       "1                  0.0          0.013889        0.0  0.041667  0.0    0.0   \n",
       "2                  0.0          0.058824        0.0  0.294118  0.0    0.0   \n",
       "3                  0.0          0.000000        0.0  0.000000  0.0    0.0   \n",
       "4                  0.0          0.000000        0.0  0.000000  0.0    0.0   \n",
       "\n",
       "   Bistro  Boat or Ferry  Boutique  Bowling Alley  Breakfast Spot  Brewery  \\\n",
       "0     0.0            0.0  0.000000            0.0             0.0      0.0   \n",
       "1     0.0            0.0  0.013889            0.0             0.0      0.0   \n",
       "2     0.0            0.0  0.000000            0.0             0.0      0.0   \n",
       "3     0.0            0.0  0.000000            0.0             0.0      0.0   \n",
       "4     0.0            0.0  0.000000            0.0             0.0      0.0   \n",
       "\n",
       "   Bubble Tea Shop  Burger Joint  Cafeteria      Café  Chinese Restaurant  \\\n",
       "0         0.000000           0.0        0.0  0.000000            0.000000   \n",
       "1         0.013889           0.0        0.0  0.055556            0.055556   \n",
       "2         0.000000           0.0        0.0  0.000000            0.058824   \n",
       "3         0.000000           0.0        0.0  0.000000            0.000000   \n",
       "4         0.000000           0.0        0.0  0.000000            0.000000   \n",
       "\n",
       "   Clothing Store  Cocktail Bar  Coffee Shop  Comfort Food Restaurant  \\\n",
       "0        0.000000           0.0     0.000000                      0.0   \n",
       "1        0.027778           0.0     0.069444                      0.0   \n",
       "2        0.000000           0.0     0.000000                      0.0   \n",
       "3        0.000000           0.0     0.000000                      0.0   \n",
       "4        0.000000           0.0     0.000000                      0.0   \n",
       "\n",
       "   Concert Hall  Cricket Ground  Cuban Restaurant  Cupcake Shop  \\\n",
       "0           0.0             0.0               0.0      0.000000   \n",
       "1           0.0             0.0               0.0      0.013889   \n",
       "2           0.0             0.0               0.0      0.000000   \n",
       "3           0.0             0.0               0.0      0.000000   \n",
       "4           0.0             0.0               0.0      0.000000   \n",
       "\n",
       "   Department Store  Design Studio  Dessert Shop  Diner  Donut Shop  \\\n",
       "0          0.000000            0.0      0.000000    0.0         0.0   \n",
       "1          0.000000            0.0      0.055556    0.0         0.0   \n",
       "2          0.058824            0.0      0.000000    0.0         0.0   \n",
       "3          0.000000            0.0      0.000000    0.0         0.0   \n",
       "4          0.000000            0.0      0.000000    0.0         0.0   \n",
       "\n",
       "   Eastern European Restaurant  English Restaurant  Fast Food Restaurant  \\\n",
       "0                          0.0                 0.0              0.000000   \n",
       "1                          0.0                 0.0              0.027778   \n",
       "2                          0.0                 0.0              0.058824   \n",
       "3                          0.0                 0.0              0.000000   \n",
       "4                          0.0                 0.0              0.000000   \n",
       "\n",
       "   Fish & Chips Shop  Fondue Restaurant      Food  Food & Drink Shop  \\\n",
       "0                0.0                0.0  0.000000           0.000000   \n",
       "1                0.0                0.0  0.000000           0.000000   \n",
       "2                0.0                0.0  0.058824           0.058824   \n",
       "3                0.0                0.0  0.000000           0.000000   \n",
       "4                0.0                0.0  0.000000           0.000000   \n",
       "\n",
       "   Food Court  Food Truck  French Restaurant    Garden  Gastropub  \\\n",
       "0         0.0         0.0                0.0  0.000000   0.000000   \n",
       "1         0.0         0.0                0.0  0.000000   0.013889   \n",
       "2         0.0         0.0                0.0  0.058824   0.000000   \n",
       "3         0.0         0.0                0.0  0.000000   0.000000   \n",
       "4         0.0         0.0                0.0  0.000000   0.000000   \n",
       "\n",
       "   German Restaurant  Gift Shop  Golf Course  Gym  Gym / Fitness Center  \\\n",
       "0                0.0        0.0          0.0  0.0                   0.0   \n",
       "1                0.0        0.0          0.0  0.0                   0.0   \n",
       "2                0.0        0.0          0.0  0.0                   0.0   \n",
       "3                0.0        0.0          0.0  0.0                   0.0   \n",
       "4                0.0        0.0          0.0  0.0                   0.0   \n",
       "\n",
       "   Gym Pool  Hookah Bar    Hostel  Hotel Bar  Ice Cream Shop  \\\n",
       "0       0.0         0.0  0.000000        0.0             0.0   \n",
       "1       0.0         0.0  0.013889        0.0             0.0   \n",
       "2       0.0         0.0  0.000000        0.0             0.0   \n",
       "3       0.0         0.0  0.000000        0.0             0.0   \n",
       "4       0.0         0.0  0.000000        0.0             0.0   \n",
       "\n",
       "   Indian Restaurant  Irish Pub  Italian Restaurant  Japanese Restaurant  \\\n",
       "0           0.000000        0.0            0.000000                  0.0   \n",
       "1           0.013889        0.0            0.013889                  0.0   \n",
       "2           0.000000        0.0            0.058824                  0.0   \n",
       "3           0.000000        0.0            0.000000                  0.0   \n",
       "4           0.000000        0.0            0.000000                  0.0   \n",
       "\n",
       "   Juice Bar  Karaoke Bar  Kids Store    Lounge  Malay Restaurant  \\\n",
       "0        0.0          0.0         0.0  0.000000               0.0   \n",
       "1        0.0          0.0         0.0  0.013889               0.0   \n",
       "2        0.0          0.0         0.0  0.000000               0.0   \n",
       "3        0.0          0.0         0.0  0.000000               0.0   \n",
       "4        0.0          0.0         0.0  0.000000               0.0   \n",
       "\n",
       "   Mediterranean Restaurant  Men's Store  Middle Eastern Restaurant  \\\n",
       "0                       0.0     0.000000                   0.000000   \n",
       "1                       0.0     0.013889                   0.013889   \n",
       "2                       0.0     0.000000                   0.000000   \n",
       "3                       0.0     0.000000                   0.000000   \n",
       "4                       0.0     0.000000                   0.000000   \n",
       "\n",
       "   Movie Theater  Multiplex  Nightclub  Noodle House  North Indian Restaurant  \\\n",
       "0            0.0   0.000000   0.000000           0.0                      0.0   \n",
       "1            0.0   0.013889   0.013889           0.0                      0.0   \n",
       "2            0.0   0.000000   0.000000           0.0                      0.0   \n",
       "3            0.0   0.000000   0.000000           0.0                      0.0   \n",
       "4            0.0   0.000000   0.000000           0.0                      0.0   \n",
       "\n",
       "   Outdoors & Recreation  Outlet Store  Pakistani Restaurant  Park  \\\n",
       "0               0.000000           0.0                   0.0   0.0   \n",
       "1               0.000000           0.0                   0.0   0.0   \n",
       "2               0.058824           0.0                   0.0   0.0   \n",
       "3               0.000000           0.0                   0.0   0.0   \n",
       "4               0.000000           0.0                   0.0   0.0   \n",
       "\n",
       "   Performing Arts Venue  Pier  Pizza Place  Platform  Pub  Racetrack  \\\n",
       "0                    0.0   0.0          0.0       0.0  0.0        0.0   \n",
       "1                    0.0   0.0          0.0       0.0  0.0        0.0   \n",
       "2                    0.0   0.0          0.0       0.0  0.0        0.0   \n",
       "3                    0.0   0.0          0.0       0.0  0.0        0.0   \n",
       "4                    0.0   0.0          0.0       0.0  0.0        0.0   \n",
       "\n",
       "   Recreation Center  Restaurant  Sandwich Place  Seafood Restaurant  \\\n",
       "0                0.0    0.000000             0.0            0.000000   \n",
       "1                0.0    0.041667             0.0            0.013889   \n",
       "2                0.0    0.000000             0.0            0.000000   \n",
       "3                0.0    0.000000             0.0            0.000000   \n",
       "4                0.0    0.000000             0.0            0.000000   \n",
       "\n",
       "   Shop & Service  Shopping Mall  Shopping Plaza  Snack Place  \\\n",
       "0             0.0       0.000000             0.0          0.0   \n",
       "1             0.0       0.013889             0.0          0.0   \n",
       "2             0.0       0.000000             0.0          0.0   \n",
       "3             0.0       0.000000             0.0          0.0   \n",
       "4             0.0       0.000000             0.0          0.0   \n",
       "\n",
       "   South Indian Restaurant  Sri Lankan Restaurant  Stadium  Stationery Store  \\\n",
       "0                      0.0               0.000000      0.0               0.0   \n",
       "1                      0.0               0.027778      0.0               0.0   \n",
       "2                      0.0               0.000000      0.0               0.0   \n",
       "3                      0.0               0.000000      0.0               0.0   \n",
       "4                      0.0               0.000000      0.0               0.0   \n",
       "\n",
       "   Steakhouse  Supermarket  Sushi Restaurant  Taco Place  Tapas Restaurant  \\\n",
       "0         0.0          0.0               0.0         0.0               0.0   \n",
       "1         0.0          0.0               0.0         0.0               0.0   \n",
       "2         0.0          0.0               0.0         0.0               0.0   \n",
       "3         0.0          0.0               0.0         0.0               0.0   \n",
       "4         0.0          0.0               0.0         0.0               0.0   \n",
       "\n",
       "   Tea Room  Tennis Court  Tennis Stadium  Thai Restaurant   Theater  \\\n",
       "0       0.0           0.0             0.0         0.000000  0.000000   \n",
       "1       0.0           0.0             0.0         0.027778  0.013889   \n",
       "2       0.0           0.0             0.0         0.000000  0.000000   \n",
       "3       0.0           0.0             0.0         0.000000  0.000000   \n",
       "4       0.0           0.0             0.0         0.000000  0.000000   \n",
       "\n",
       "   Theme Park  Vegetarian / Vegan Restaurant  Vietnamese Restaurant  \\\n",
       "0         0.0                            0.0                    0.0   \n",
       "1         0.0                            0.0                    0.0   \n",
       "2         0.0                            0.0                    0.0   \n",
       "3         0.0                            0.0                    0.0   \n",
       "4         0.0                            0.0                    0.0   \n",
       "\n",
       "   Women's Store  Zoo  \n",
       "0            0.0  0.0  \n",
       "1            0.0  0.0  \n",
       "2            0.0  0.0  \n",
       "3            0.0  0.0  \n",
       "4            0.0  0.0  "
      ]
     },
     "execution_count": 45,
     "metadata": {},
     "output_type": "execute_result"
    }
   ],
   "source": [
    "colombo_grouped.head()"
   ]
  },
  {
   "cell_type": "markdown",
   "metadata": {},
   "source": [
    "### Calculate optimum number of clusters for K- means"
   ]
  },
  {
   "cell_type": "code",
   "execution_count": 219,
   "metadata": {
    "scrolled": true
   },
   "outputs": [],
   "source": [
    "distortions = [] \n",
    "inertias = [] \n",
    "mapping1 = {} \n",
    "mapping2 = {} \n",
    "K = range(1,20) \n",
    "  \n",
    "for k in K: \n",
    "    #Building and fitting the model \n",
    "    kmeanModel = KMeans(n_clusters=k).fit(np.array(colombo_grouped.drop('Neighborhood', 1))) \n",
    "    kmeanModel.fit(np.array(colombo_grouped.drop('Neighborhood', 1)))     \n",
    "      \n",
    "    distortions.append(sum(np.min(cdist(np.array(colombo_grouped.drop('Neighborhood', 1)), kmeanModel.cluster_centers_, \n",
    "                      'euclidean'),axis=1)) / np.array(colombo_grouped.drop('Neighborhood', 1)).shape[0]) \n",
    "    inertias.append(kmeanModel.inertia_) \n",
    "  \n",
    "    mapping1[k] = sum(np.min(cdist(np.array(colombo_grouped.drop('Neighborhood', 1)), kmeanModel.cluster_centers_, \n",
    "                 'euclidean'),axis=1)) / np.array(colombo_grouped.drop('Neighborhood', 1)).shape[0] \n",
    "    mapping2[k] = kmeanModel.inertia_ "
   ]
  },
  {
   "cell_type": "code",
   "execution_count": 220,
   "metadata": {
    "scrolled": true
   },
   "outputs": [
    {
     "data": {
      "image/png": "[encoded data removed]",
      "text/plain": [
       "<Figure size 432x288 with 1 Axes>"
      ]
     },
     "metadata": {
      "needs_background": "light"
     },
     "output_type": "display_data"
    }
   ],
   "source": [
    "plt.plot(K, distortions, 'bx-') \n",
    "plt.xlabel('Values of K') \n",
    "plt.ylabel('Distortion') \n",
    "plt.title('The Elbow Method using Distortion') \n",
    "plt.show() "
   ]
  },
  {
   "cell_type": "markdown",
   "metadata": {},
   "source": [
    "There is no clear elbow here therefore we look at the silhoutte score"
   ]
  },
  {
   "cell_type": "code",
   "execution_count": 221,
   "metadata": {},
   "outputs": [
    {
     "name": "stdout",
     "output_type": "stream",
     "text": [
      "For n_clusters = 2, silhouette score is 0.6587624534260497)\n",
      "For n_clusters = 3, silhouette score is 0.15494385329966393)\n",
      "For n_clusters = 4, silhouette score is 0.16655043149320725)\n",
      "For n_clusters = 5, silhouette score is 0.0900731231958947)\n",
      "For n_clusters = 6, silhouette score is 0.09492436066087953)\n",
      "For n_clusters = 7, silhouette score is 0.09768513746119391)\n",
      "For n_clusters = 8, silhouette score is 0.08353005815913271)\n",
      "For n_clusters = 9, silhouette score is 0.09212713347015009)\n",
      "For n_clusters = 10, silhouette score is 0.10543779537193794)\n",
      "For n_clusters = 11, silhouette score is 0.08289713487811015)\n",
      "For n_clusters = 12, silhouette score is 0.06482486785260205)\n",
      "For n_clusters = 13, silhouette score is 0.09716574663219048)\n",
      "For n_clusters = 14, silhouette score is 0.037953893719167915)\n",
      "For n_clusters = 15, silhouette score is 0.0945102968492965)\n",
      "For n_clusters = 16, silhouette score is 0.07590759228729095)\n",
      "For n_clusters = 17, silhouette score is 0.048931580956968396)\n",
      "For n_clusters = 18, silhouette score is 0.07804837784429662)\n",
      "For n_clusters = 19, silhouette score is 0.06565266635108749)\n"
     ]
    }
   ],
   "source": [
    "sillhouette=[]\n",
    "no_clusters=[]\n",
    "for n_clusters in range(2,20):\n",
    "    clusterer = KMeans(n_clusters=n_clusters)\n",
    "    preds = clusterer.fit_predict(np.array(colombo_grouped.drop('Neighborhood', 1)))\n",
    "    centers = clusterer.cluster_centers_\n",
    "\n",
    "    score = silhouette_score(np.array(colombo_grouped.drop('Neighborhood', 1)), preds)\n",
    "    sillhouette.append(score)\n",
    "    no_clusters.append(n_clusters)\n",
    "    print(\"For n_clusters = {}, silhouette score is {})\".format(n_clusters, score))"
   ]
  },
  {
   "cell_type": "code",
   "execution_count": 222,
   "metadata": {
    "scrolled": true
   },
   "outputs": [
    {
     "data": {
      "image/png": "[encoded data removed]",
      "text/plain": [
       "<Figure size 432x288 with 1 Axes>"
      ]
     },
     "metadata": {
      "needs_background": "light"
     },
     "output_type": "display_data"
    }
   ],
   "source": [
    "plt.plot(no_clusters, sillhouette, 'bx-') \n",
    "plt.xlabel('Values of K') \n",
    "plt.ylabel('Sillhouette Score') \n",
    "plt.title('Sillhouette Score for optimal clusters') \n",
    "plt.show() "
   ]
  },
  {
   "cell_type": "markdown",
   "metadata": {},
   "source": [
    "#### Run K- Means for the desired number of clusters"
   ]
  },
  {
   "cell_type": "code",
   "execution_count": 223,
   "metadata": {},
   "outputs": [
    {
     "data": {
      "text/plain": [
       "array([6, 6, 4, 6, 6, 0, 0, 6, 6, 0])"
      ]
     },
     "execution_count": 223,
     "metadata": {},
     "output_type": "execute_result"
    }
   ],
   "source": [
    "# set number of clusters\n",
    "kclusters = 8\n",
    "\n",
    "# run k-means clustering\n",
    "kmeans = KMeans(n_clusters=kclusters, random_state=0).fit(colombo_grouped.drop('Neighborhood', 1))\n",
    "\n",
    "# check cluster labels generated for each row in the dataframe\n",
    "kmeans.labels_[0:10] "
   ]
  },
  {
   "cell_type": "markdown",
   "metadata": {},
   "source": [
    "Concatenate labels and geo data"
   ]
  },
  {
   "cell_type": "code",
   "execution_count": 224,
   "metadata": {},
   "outputs": [],
   "source": [
    "# create a new dataframe that includes the cluster as well as the top 10 venues for each neighborhood.\n",
    "colombo_merged = colombo_grouped[[\"Neighborhood\"]].copy()\n",
    "#Add cluster labels\n",
    "colombo_merged[\"Cluster Labels\"]=kmeans.labels_\n",
    "#Assign geo data\n",
    "colombo_merged=colombo_merged.merge(colombo_venues[['Neighborhood', 'Neighborhood Latitude', 'Neighborhood Longitude']],on='Neighborhood',how='left').drop_duplicates()"
   ]
  },
  {
   "cell_type": "markdown",
   "metadata": {},
   "source": [
    "No of neighborhoods by cluster"
   ]
  },
  {
   "cell_type": "code",
   "execution_count": 225,
   "metadata": {
    "scrolled": true
   },
   "outputs": [
    {
     "data": {
      "text/plain": [
       "6    23\n",
       "0    20\n",
       "4    11\n",
       "2     3\n",
       "7     1\n",
       "5     1\n",
       "3     1\n",
       "1     1\n",
       "Name: Cluster Labels, dtype: int64"
      ]
     },
     "execution_count": 225,
     "metadata": {},
     "output_type": "execute_result"
    }
   ],
   "source": [
    "colombo_merged['Cluster Labels'].value_counts()"
   ]
  },
  {
   "cell_type": "markdown",
   "metadata": {},
   "source": [
    "### Cluster Visulalizations"
   ]
  },
  {
   "cell_type": "code",
   "execution_count": 226,
   "metadata": {},
   "outputs": [],
   "source": [
    "X=colombo_grouped.copy()\n",
    "X[\"Cluster\"]=kmeans.labels_"
   ]
  },
  {
   "cell_type": "code",
   "execution_count": 227,
   "metadata": {},
   "outputs": [],
   "source": [
    "#PCA with two principal components\n",
    "pca_3d = PCA(n_components=3)"
   ]
  },
  {
   "cell_type": "code",
   "execution_count": 228,
   "metadata": {},
   "outputs": [],
   "source": [
    "#This DataFrame contains the two principal components that will be used\n",
    "#for the 2-D visualization mentioned above\n",
    "PCs_3d = pd.DataFrame(pca_3d.fit_transform(X.drop([\"Cluster\",\"Neighborhood\"], axis=1)))"
   ]
  },
  {
   "cell_type": "code",
   "execution_count": 229,
   "metadata": {
    "scrolled": true
   },
   "outputs": [
    {
     "data": {
      "text/plain": [
       "array([0.01705968, 0.01181048, 0.00914723])"
      ]
     },
     "execution_count": 229,
     "metadata": {},
     "output_type": "execute_result"
    }
   ],
   "source": [
    "#Variance of data explained by the three orthorgonal components\n",
    "pca_3d.explained_variance_"
   ]
  },
  {
   "cell_type": "code",
   "execution_count": 230,
   "metadata": {},
   "outputs": [],
   "source": [
    "PCs_3d.columns = [\"PC1_3d\", \"PC2_3d\", \"PC3_3d\"]"
   ]
  },
  {
   "cell_type": "code",
   "execution_count": 231,
   "metadata": {},
   "outputs": [],
   "source": [
    "plotX = pd.concat([X,PCs_3d], axis=1, join='inner')"
   ]
  },
  {
   "cell_type": "code",
   "execution_count": 298,
   "metadata": {},
   "outputs": [],
   "source": [
    "cluster0 = plotX[plotX[\"Cluster\"] == 0]\n",
    "cluster1 = plotX[plotX[\"Cluster\"] == 1]\n",
    "cluster2 = plotX[plotX[\"Cluster\"] == 2]\n",
    "cluster3 = plotX[plotX[\"Cluster\"] == 3]\n",
    "cluster4 = plotX[plotX[\"Cluster\"] == 4]\n",
    "cluster5 = plotX[plotX[\"Cluster\"] == 5]\n",
    "cluster6 = plotX[plotX[\"Cluster\"] == 6]\n",
    "cluster7 = plotX[plotX[\"Cluster\"] == 7]\n",
    "#cluster8 = plotX[plotX[\"Cluster\"] == 8]\n",
    "#cluster9 = plotX[plotX[\"Cluster\"] == 9]\n",
    "#cluster10 = plotX[plotX[\"Cluster\"] == 10]\n",
    "#cluster11 = plotX[plotX[\"Cluster\"] == 11]\n",
    "#cluster12 = plotX[plotX[\"Cluster\"] == 12]"
   ]
  },
  {
   "cell_type": "code",
   "execution_count": 236,
   "metadata": {},
   "outputs": [
    {
     "data": {
      "text/html": [
       "        <script type=\"text/javascript\">\n",
       "        window.PlotlyConfig = {MathJaxConfig: 'local'};\n",
       "        if (window.MathJax) {MathJax.Hub.Config({SVG: {font: \"STIX-Web\"}});}\n",
       "        if (typeof require !== 'undefined') {\n",
       "        require.undef(\"plotly\");\n",
       "        requirejs.config({\n",
       "            paths: {\n",
       "                'plotly': ['https://cdn.plot.ly/plotly-latest.min']\n",
       "            }\n",
       "        });\n",
       "        require(['plotly'], function(Plotly) {\n",
       "            window._Plotly = Plotly;\n",
       "        });\n",
       "        }\n",
       "        </script>\n",
       "        "
      ]
     },
     "metadata": {},
     "output_type": "display_data"
    }
   ],
   "source": [
    "init_notebook_mode(connected=True)"
   ]
  },
  {
   "cell_type": "code",
   "execution_count": 237,
   "metadata": {},
   "outputs": [
    {
     "data": {
      "application/vnd.plotly.v1+json": {
       "config": {
        "linkText": "Export to plot.ly",
        "plotlyServerURL": "https://plot.ly",
        "showLink": false
       },
       "data": [
        {
         "marker": {
          "color": "rgba(255, 128, 255, 0.8)"
         },
         "mode": "markers",
         "name": "Cluster 6",
         "type": "scatter3d",
         "x": [
          0.022271603678626396,
          0.0035277495577394186,
          0.022271603678626396,
          0.02227160367862641,
          0.011566117802787292,
          0.017407753692927703,
          0.008962985950454956,
          0.0194253516455177,
          -0.014786821859730074,
          0.010598931787965343,
          0.017350283696097164,
          0.01454525195416013,
          0.0028437174052456577,
          -0.012081351640853218,
          0.019575974274761015,
          0.0019512920659144044,
          0.018384933144617404,
          -0.0007877392321572351,
          0.016646572451990974,
          0.014881401540052495,
          0.009978411800544857,
          0.008138395835928885,
          0.021071318934432613
         ],
         "y": [
          -0.07854986561230559,
          -0.05799209650879822,
          -0.07854986561230555,
          -0.07854986561230555,
          -0.07855348831204625,
          -0.08041308705621518,
          -0.10047782983648568,
          -0.09605529076972501,
          -0.010360195389851895,
          -0.09260695017569513,
          -0.09421274613573567,
          -0.10383177001429413,
          -0.05946764507598743,
          -0.01741673026179961,
          -0.09575008518708465,
          -0.08111791359896449,
          -0.105438183274163,
          -0.06347412203952293,
          -0.09683881739779396,
          -0.09584485201827389,
          -0.09207495290702947,
          -0.07895222132015181,
          -0.08304479387491885
         ],
         "z": [
          -0.0358828541057511,
          -0.023336364066407378,
          -0.03588285410575112,
          -0.0358828541057511,
          -0.0325389104982861,
          -0.04044722391919963,
          0.03643020495745612,
          -0.05157367849369872,
          -0.04056905220837395,
          -0.05956623599034583,
          -0.04926792888911043,
          -0.013345291743530963,
          -0.04397348453949631,
          -0.04105053423596589,
          -0.05203294352494598,
          -0.06138310577236672,
          -0.028997892656741568,
          -0.04544779569094002,
          -0.051630969354089215,
          -0.04827469439275017,
          -0.06422482091829738,
          -0.007508756911040554,
          -0.04408198275369588
         ]
        },
        {
         "marker": {
          "color": "rgba(255, 128, 2, 0.8)"
         },
         "mode": "markers",
         "name": "Cluster 0",
         "type": "scatter3d",
         "x": [
          -0.015544233369537145,
          -0.006075449085506404,
          -0.04175247261186453,
          -0.04665107000854787,
          -0.014786943458880103,
          -0.0116129374221908,
          -0.017089050768700487,
          -0.018194827785807298,
          -0.03801152006996665,
          0.0032500054685468144,
          -0.013373050858062726,
          -0.014314657685663775,
          -0.02140112911828913,
          -0.011448150288222709,
          -0.015572333863392828,
          -0.007550802183788263,
          -0.04528826626537219,
          -0.040121806967558835,
          -0.026412051946773412,
          0.008079073371888294
         ],
         "y": [
          -0.023011924205907367,
          -0.017677840092655998,
          0.07153221338914945,
          0.0971396831737234,
          -0.0023900341791391637,
          -0.052268333728285016,
          -0.023696307178473597,
          -0.02973100645483394,
          0.012418733801303773,
          -0.07947006366068116,
          0.010778916759060411,
          -0.030532294957688496,
          0.0003474230277426731,
          -0.022555571227003045,
          0.00259312945989717,
          -0.054075578062272193,
          0.04157591495055315,
          0.04574286282120332,
          -0.00883917274829524,
          -0.027397103474794328
         ],
         "z": [
          0.007712375374263517,
          -0.03473971635093351,
          0.0480010582843789,
          0.05862338797272272,
          -0.0011529108876452297,
          0.11551869640173082,
          0.058518313736417825,
          -0.0007446474548104387,
          0.012430942567748581,
          -0.04545774470214466,
          -0.033478935945945025,
          0.034142598963219764,
          0.0014928420524189419,
          -0.03892321979548082,
          -0.04592774926527772,
          -0.015579722543635346,
          0.06100476487285363,
          -0.01674032902345826,
          0.024962573795211437,
          0.012511743944115717
         ]
        },
        {
         "marker": {
          "color": "rgba(0, 255, 200, 0.8)"
         },
         "mode": "markers",
         "name": "Cluster 4",
         "type": "scatter3d",
         "x": [
          -0.08379755289324971,
          -0.11867715988338315,
          -0.05968244411430222,
          -0.0783917596536725,
          -0.07169423869604666,
          -0.05137107567410156,
          -0.038376327335424426,
          -0.04248002184782204,
          -0.05023776719013325,
          -0.03701546162614536,
          -0.06766654168464925
         ],
         "y": [
          0.21618589455098478,
          0.3803355336282575,
          0.14121610364844575,
          0.2078579157808572,
          0.22737373388140322,
          0.16055838361328428,
          0.08463491821884722,
          0.08526793405230025,
          0.11368937572917068,
          0.10312387458589983,
          0.10304197861437966
         ],
         "z": [
          0.09947776647433235,
          0.03816743447425826,
          -0.016416993146099686,
          -0.0029478612316615766,
          0.013484004947588482,
          0.0032775468045335796,
          0.018751770908625946,
          -0.027429764028623058,
          -0.021852030632177655,
          -0.012407171732249894,
          0.13603513380118412
         ]
        }
       ],
       "layout": {
        "template": {
         "data": {
          "bar": [
           {
            "error_x": {
             "color": "#2a3f5f"
            },
            "error_y": {
             "color": "#2a3f5f"
            },
            "marker": {
             "line": {
              "color": "#E5ECF6",
              "width": 0.5
             }
            },
            "type": "bar"
           }
          ],
          "barpolar": [
           {
            "marker": {
             "line": {
              "color": "#E5ECF6",
              "width": 0.5
             }
            },
            "type": "barpolar"
           }
          ],
          "carpet": [
           {
            "aaxis": {
             "endlinecolor": "#2a3f5f",
             "gridcolor": "white",
             "linecolor": "white",
             "minorgridcolor": "white",
             "startlinecolor": "#2a3f5f"
            },
            "baxis": {
             "endlinecolor": "#2a3f5f",
             "gridcolor": "white",
             "linecolor": "white",
             "minorgridcolor": "white",
             "startlinecolor": "#2a3f5f"
            },
            "type": "carpet"
           }
          ],
          "choropleth": [
           {
            "colorbar": {
             "outlinewidth": 0,
             "ticks": ""
            },
            "type": "choropleth"
           }
          ],
          "contour": [
           {
            "colorbar": {
             "outlinewidth": 0,
             "ticks": ""
            },
            "colorscale": [
             [
              0,
              "#0d0887"
             ],
             [
              0.1111111111111111,
              "#46039f"
             ],
             [
              0.2222222222222222,
              "#7201a8"
             ],
             [
              0.3333333333333333,
              "#9c179e"
             ],
             [
              0.4444444444444444,
              "#bd3786"
             ],
             [
              0.5555555555555556,
              "#d8576b"
             ],
             [
              0.6666666666666666,
              "#ed7953"
             ],
             [
              0.7777777777777778,
              "#fb9f3a"
             ],
             [
              0.8888888888888888,
              "#fdca26"
             ],
             [
              1,
              "#f0f921"
             ]
            ],
            "type": "contour"
           }
          ],
          "contourcarpet": [
           {
            "colorbar": {
             "outlinewidth": 0,
             "ticks": ""
            },
            "type": "contourcarpet"
           }
          ],
          "heatmap": [
           {
            "colorbar": {
             "outlinewidth": 0,
             "ticks": ""
            },
            "colorscale": [
             [
              0,
              "#0d0887"
             ],
             [
              0.1111111111111111,
              "#46039f"
             ],
             [
              0.2222222222222222,
              "#7201a8"
             ],
             [
              0.3333333333333333,
              "#9c179e"
             ],
             [
              0.4444444444444444,
              "#bd3786"
             ],
             [
              0.5555555555555556,
              "#d8576b"
             ],
             [
              0.6666666666666666,
              "#ed7953"
             ],
             [
              0.7777777777777778,
              "#fb9f3a"
             ],
             [
              0.8888888888888888,
              "#fdca26"
             ],
             [
              1,
              "#f0f921"
             ]
            ],
            "type": "heatmap"
           }
          ],
          "heatmapgl": [
           {
            "colorbar": {
             "outlinewidth": 0,
             "ticks": ""
            },
            "colorscale": [
             [
              0,
              "#0d0887"
             ],
             [
              0.1111111111111111,
              "#46039f"
             ],
             [
              0.2222222222222222,
              "#7201a8"
             ],
             [
              0.3333333333333333,
              "#9c179e"
             ],
             [
              0.4444444444444444,
              "#bd3786"
             ],
             [
              0.5555555555555556,
              "#d8576b"
             ],
             [
              0.6666666666666666,
              "#ed7953"
             ],
             [
              0.7777777777777778,
              "#fb9f3a"
             ],
             [
              0.8888888888888888,
              "#fdca26"
             ],
             [
              1,
              "#f0f921"
             ]
            ],
            "type": "heatmapgl"
           }
          ],
          "histogram": [
           {
            "marker": {
             "colorbar": {
              "outlinewidth": 0,
              "ticks": ""
             }
            },
            "type": "histogram"
           }
          ],
          "histogram2d": [
           {
            "colorbar": {
             "outlinewidth": 0,
             "ticks": ""
            },
            "colorscale": [
             [
              0,
              "#0d0887"
             ],
             [
              0.1111111111111111,
              "#46039f"
             ],
             [
              0.2222222222222222,
              "#7201a8"
             ],
             [
              0.3333333333333333,
              "#9c179e"
             ],
             [
              0.4444444444444444,
              "#bd3786"
             ],
             [
              0.5555555555555556,
              "#d8576b"
             ],
             [
              0.6666666666666666,
              "#ed7953"
             ],
             [
              0.7777777777777778,
              "#fb9f3a"
             ],
             [
              0.8888888888888888,
              "#fdca26"
             ],
             [
              1,
              "#f0f921"
             ]
            ],
            "type": "histogram2d"
           }
          ],
          "histogram2dcontour": [
           {
            "colorbar": {
             "outlinewidth": 0,
             "ticks": ""
            },
            "colorscale": [
             [
              0,
              "#0d0887"
             ],
             [
              0.1111111111111111,
              "#46039f"
             ],
             [
              0.2222222222222222,
              "#7201a8"
             ],
             [
              0.3333333333333333,
              "#9c179e"
             ],
             [
              0.4444444444444444,
              "#bd3786"
             ],
             [
              0.5555555555555556,
              "#d8576b"
             ],
             [
              0.6666666666666666,
              "#ed7953"
             ],
             [
              0.7777777777777778,
              "#fb9f3a"
             ],
             [
              0.8888888888888888,
              "#fdca26"
             ],
             [
              1,
              "#f0f921"
             ]
            ],
            "type": "histogram2dcontour"
           }
          ],
          "mesh3d": [
           {
            "colorbar": {
             "outlinewidth": 0,
             "ticks": ""
            },
            "type": "mesh3d"
           }
          ],
          "parcoords": [
           {
            "line": {
             "colorbar": {
              "outlinewidth": 0,
              "ticks": ""
             }
            },
            "type": "parcoords"
           }
          ],
          "pie": [
           {
            "automargin": true,
            "type": "pie"
           }
          ],
          "scatter": [
           {
            "marker": {
             "colorbar": {
              "outlinewidth": 0,
              "ticks": ""
             }
            },
            "type": "scatter"
           }
          ],
          "scatter3d": [
           {
            "line": {
             "colorbar": {
              "outlinewidth": 0,
              "ticks": ""
             }
            },
            "marker": {
             "colorbar": {
              "outlinewidth": 0,
              "ticks": ""
             }
            },
            "type": "scatter3d"
           }
          ],
          "scattercarpet": [
           {
            "marker": {
             "colorbar": {
              "outlinewidth": 0,
              "ticks": ""
             }
            },
            "type": "scattercarpet"
           }
          ],
          "scattergeo": [
           {
            "marker": {
             "colorbar": {
              "outlinewidth": 0,
              "ticks": ""
             }
            },
            "type": "scattergeo"
           }
          ],
          "scattergl": [
           {
            "marker": {
             "colorbar": {
              "outlinewidth": 0,
              "ticks": ""
             }
            },
            "type": "scattergl"
           }
          ],
          "scattermapbox": [
           {
            "marker": {
             "colorbar": {
              "outlinewidth": 0,
              "ticks": ""
             }
            },
            "type": "scattermapbox"
           }
          ],
          "scatterpolar": [
           {
            "marker": {
             "colorbar": {
              "outlinewidth": 0,
              "ticks": ""
             }
            },
            "type": "scatterpolar"
           }
          ],
          "scatterpolargl": [
           {
            "marker": {
             "colorbar": {
              "outlinewidth": 0,
              "ticks": ""
             }
            },
            "type": "scatterpolargl"
           }
          ],
          "scatterternary": [
           {
            "marker": {
             "colorbar": {
              "outlinewidth": 0,
              "ticks": ""
             }
            },
            "type": "scatterternary"
           }
          ],
          "surface": [
           {
            "colorbar": {
             "outlinewidth": 0,
             "ticks": ""
            },
            "colorscale": [
             [
              0,
              "#0d0887"
             ],
             [
              0.1111111111111111,
              "#46039f"
             ],
             [
              0.2222222222222222,
              "#7201a8"
             ],
             [
              0.3333333333333333,
              "#9c179e"
             ],
             [
              0.4444444444444444,
              "#bd3786"
             ],
             [
              0.5555555555555556,
              "#d8576b"
             ],
             [
              0.6666666666666666,
              "#ed7953"
             ],
             [
              0.7777777777777778,
              "#fb9f3a"
             ],
             [
              0.8888888888888888,
              "#fdca26"
             ],
             [
              1,
              "#f0f921"
             ]
            ],
            "type": "surface"
           }
          ],
          "table": [
           {
            "cells": {
             "fill": {
              "color": "#EBF0F8"
             },
             "line": {
              "color": "white"
             }
            },
            "header": {
             "fill": {
              "color": "#C8D4E3"
             },
             "line": {
              "color": "white"
             }
            },
            "type": "table"
           }
          ]
         },
         "layout": {
          "annotationdefaults": {
           "arrowcolor": "#2a3f5f",
           "arrowhead": 0,
           "arrowwidth": 1
          },
          "coloraxis": {
           "colorbar": {
            "outlinewidth": 0,
            "ticks": ""
           }
          },
          "colorscale": {
           "diverging": [
            [
             0,
             "#8e0152"
            ],
            [
             0.1,
             "#c51b7d"
            ],
            [
             0.2,
             "#de77ae"
            ],
            [
             0.3,
             "#f1b6da"
            ],
            [
             0.4,
             "#fde0ef"
            ],
            [
             0.5,
             "#f7f7f7"
            ],
            [
             0.6,
             "#e6f5d0"
            ],
            [
             0.7,
             "#b8e186"
            ],
            [
             0.8,
             "#7fbc41"
            ],
            [
             0.9,
             "#4d9221"
            ],
            [
             1,
             "#276419"
            ]
           ],
           "sequential": [
            [
             0,
             "#0d0887"
            ],
            [
             0.1111111111111111,
             "#46039f"
            ],
            [
             0.2222222222222222,
             "#7201a8"
            ],
            [
             0.3333333333333333,
             "#9c179e"
            ],
            [
             0.4444444444444444,
             "#bd3786"
            ],
            [
             0.5555555555555556,
             "#d8576b"
            ],
            [
             0.6666666666666666,
             "#ed7953"
            ],
            [
             0.7777777777777778,
             "#fb9f3a"
            ],
            [
             0.8888888888888888,
             "#fdca26"
            ],
            [
             1,
             "#f0f921"
            ]
           ],
           "sequentialminus": [
            [
             0,
             "#0d0887"
            ],
            [
             0.1111111111111111,
             "#46039f"
            ],
            [
             0.2222222222222222,
             "#7201a8"
            ],
            [
             0.3333333333333333,
             "#9c179e"
            ],
            [
             0.4444444444444444,
             "#bd3786"
            ],
            [
             0.5555555555555556,
             "#d8576b"
            ],
            [
             0.6666666666666666,
             "#ed7953"
            ],
            [
             0.7777777777777778,
             "#fb9f3a"
            ],
            [
             0.8888888888888888,
             "#fdca26"
            ],
            [
             1,
             "#f0f921"
            ]
           ]
          },
          "colorway": [
           "#636efa",
           "#EF553B",
           "#00cc96",
           "#ab63fa",
           "#FFA15A",
           "#19d3f3",
           "#FF6692",
           "#B6E880",
           "#FF97FF",
           "#FECB52"
          ],
          "font": {
           "color": "#2a3f5f"
          },
          "geo": {
           "bgcolor": "white",
           "lakecolor": "white",
           "landcolor": "#E5ECF6",
           "showlakes": true,
           "showland": true,
           "subunitcolor": "white"
          },
          "hoverlabel": {
           "align": "left"
          },
          "hovermode": "closest",
          "mapbox": {
           "style": "light"
          },
          "paper_bgcolor": "white",
          "plot_bgcolor": "#E5ECF6",
          "polar": {
           "angularaxis": {
            "gridcolor": "white",
            "linecolor": "white",
            "ticks": ""
           },
           "bgcolor": "#E5ECF6",
           "radialaxis": {
            "gridcolor": "white",
            "linecolor": "white",
            "ticks": ""
           }
          },
          "scene": {
           "xaxis": {
            "backgroundcolor": "#E5ECF6",
            "gridcolor": "white",
            "gridwidth": 2,
            "linecolor": "white",
            "showbackground": true,
            "ticks": "",
            "zerolinecolor": "white"
           },
           "yaxis": {
            "backgroundcolor": "#E5ECF6",
            "gridcolor": "white",
            "gridwidth": 2,
            "linecolor": "white",
            "showbackground": true,
            "ticks": "",
            "zerolinecolor": "white"
           },
           "zaxis": {
            "backgroundcolor": "#E5ECF6",
            "gridcolor": "white",
            "gridwidth": 2,
            "linecolor": "white",
            "showbackground": true,
            "ticks": "",
            "zerolinecolor": "white"
           }
          },
          "shapedefaults": {
           "line": {
            "color": "#2a3f5f"
           }
          },
          "ternary": {
           "aaxis": {
            "gridcolor": "white",
            "linecolor": "white",
            "ticks": ""
           },
           "baxis": {
            "gridcolor": "white",
            "linecolor": "white",
            "ticks": ""
           },
           "bgcolor": "#E5ECF6",
           "caxis": {
            "gridcolor": "white",
            "linecolor": "white",
            "ticks": ""
           }
          },
          "title": {
           "x": 0.05
          },
          "xaxis": {
           "automargin": true,
           "gridcolor": "white",
           "linecolor": "white",
           "ticks": "",
           "title": {
            "standoff": 15
           },
           "zerolinecolor": "white",
           "zerolinewidth": 2
          },
          "yaxis": {
           "automargin": true,
           "gridcolor": "white",
           "linecolor": "white",
           "ticks": "",
           "title": {
            "standoff": 15
           },
           "zerolinecolor": "white",
           "zerolinewidth": 2
          }
         }
        },
        "title": {
         "text": "Visualizing Clusters in Three Dimensions Using PCA"
        },
        "xaxis": {
         "ticklen": 5,
         "title": {
          "text": "PC1"
         },
         "zeroline": false
        },
        "yaxis": {
         "ticklen": 5,
         "title": {
          "text": "PC2"
         },
         "zeroline": false
        }
       }
      },
      "text/html": [
       "<div>\n",
       "        \n",
       "        \n",
       "            <div id=\"7e38884f-66c2-43c0-bf90-6caa7586e766\" class=\"plotly-graph-div\" style=\"height:525px; width:100%;\"></div>\n",
       "            <script type=\"text/javascript\">\n",
       "                require([\"plotly\"], function(Plotly) {\n",
       "                    window.PLOTLYENV=window.PLOTLYENV || {};\n",
       "                    \n",
       "                if (document.getElementById(\"7e38884f-66c2-43c0-bf90-6caa7586e766\")) {\n",
       "                    Plotly.newPlot(\n",
       "                        '7e38884f-66c2-43c0-bf90-6caa7586e766',\n",
       "                        [{\"marker\": {\"color\": \"rgba(255, 128, 255, 0.8)\"}, \"mode\": \"markers\", \"name\": \"Cluster 6\", \"type\": \"scatter3d\", \"x\": [0.022271603678626396, 0.0035277495577394186, 0.022271603678626396, 0.02227160367862641, 0.011566117802787292, 0.017407753692927703, 0.008962985950454956, 0.0194253516455177, -0.014786821859730074, 0.010598931787965343, 0.017350283696097164, 0.01454525195416013, 0.0028437174052456577, -0.012081351640853218, 0.019575974274761015, 0.0019512920659144044, 0.018384933144617404, -0.0007877392321572351, 0.016646572451990974, 0.014881401540052495, 0.009978411800544857, 0.008138395835928885, 0.021071318934432613], \"y\": [-0.07854986561230559, -0.05799209650879822, -0.07854986561230555, -0.07854986561230555, -0.07855348831204625, -0.08041308705621518, -0.10047782983648568, -0.09605529076972501, -0.010360195389851895, -0.09260695017569513, -0.09421274613573567, -0.10383177001429413, -0.05946764507598743, -0.01741673026179961, -0.09575008518708465, -0.08111791359896449, -0.105438183274163, -0.06347412203952293, -0.09683881739779396, -0.09584485201827389, -0.09207495290702947, -0.07895222132015181, -0.08304479387491885], \"z\": [-0.0358828541057511, -0.023336364066407378, -0.03588285410575112, -0.0358828541057511, -0.0325389104982861, -0.04044722391919963, 0.03643020495745612, -0.05157367849369872, -0.04056905220837395, -0.05956623599034583, -0.04926792888911043, -0.013345291743530963, -0.04397348453949631, -0.04105053423596589, -0.05203294352494598, -0.06138310577236672, -0.028997892656741568, -0.04544779569094002, -0.051630969354089215, -0.04827469439275017, -0.06422482091829738, -0.007508756911040554, -0.04408198275369588]}, {\"marker\": {\"color\": \"rgba(255, 128, 2, 0.8)\"}, \"mode\": \"markers\", \"name\": \"Cluster 0\", \"type\": \"scatter3d\", \"x\": [-0.015544233369537145, -0.006075449085506404, -0.04175247261186453, -0.04665107000854787, -0.014786943458880103, -0.0116129374221908, -0.017089050768700487, -0.018194827785807298, -0.03801152006996665, 0.0032500054685468144, -0.013373050858062726, -0.014314657685663775, -0.02140112911828913, -0.011448150288222709, -0.015572333863392828, -0.007550802183788263, -0.04528826626537219, -0.040121806967558835, -0.026412051946773412, 0.008079073371888294], \"y\": [-0.023011924205907367, -0.017677840092655998, 0.07153221338914945, 0.0971396831737234, -0.0023900341791391637, -0.052268333728285016, -0.023696307178473597, -0.02973100645483394, 0.012418733801303773, -0.07947006366068116, 0.010778916759060411, -0.030532294957688496, 0.0003474230277426731, -0.022555571227003045, 0.00259312945989717, -0.054075578062272193, 0.04157591495055315, 0.04574286282120332, -0.00883917274829524, -0.027397103474794328], \"z\": [0.007712375374263517, -0.03473971635093351, 0.0480010582843789, 0.05862338797272272, -0.0011529108876452297, 0.11551869640173082, 0.058518313736417825, -0.0007446474548104387, 0.012430942567748581, -0.04545774470214466, -0.033478935945945025, 0.034142598963219764, 0.0014928420524189419, -0.03892321979548082, -0.04592774926527772, -0.015579722543635346, 0.06100476487285363, -0.01674032902345826, 0.024962573795211437, 0.012511743944115717]}, {\"marker\": {\"color\": \"rgba(0, 255, 200, 0.8)\"}, \"mode\": \"markers\", \"name\": \"Cluster 4\", \"type\": \"scatter3d\", \"x\": [-0.08379755289324971, -0.11867715988338315, -0.05968244411430222, -0.0783917596536725, -0.07169423869604666, -0.05137107567410156, -0.038376327335424426, -0.04248002184782204, -0.05023776719013325, -0.03701546162614536, -0.06766654168464925], \"y\": [0.21618589455098478, 0.3803355336282575, 0.14121610364844575, 0.2078579157808572, 0.22737373388140322, 0.16055838361328428, 0.08463491821884722, 0.08526793405230025, 0.11368937572917068, 0.10312387458589983, 0.10304197861437966], \"z\": [0.09947776647433235, 0.03816743447425826, -0.016416993146099686, -0.0029478612316615766, 0.013484004947588482, 0.0032775468045335796, 0.018751770908625946, -0.027429764028623058, -0.021852030632177655, -0.012407171732249894, 0.13603513380118412]}],\n",
       "                        {\"template\": {\"data\": {\"bar\": [{\"error_x\": {\"color\": \"#2a3f5f\"}, \"error_y\": {\"color\": \"#2a3f5f\"}, \"marker\": {\"line\": {\"color\": \"#E5ECF6\", \"width\": 0.5}}, \"type\": \"bar\"}], \"barpolar\": [{\"marker\": {\"line\": {\"color\": \"#E5ECF6\", \"width\": 0.5}}, \"type\": \"barpolar\"}], \"carpet\": [{\"aaxis\": {\"endlinecolor\": \"#2a3f5f\", \"gridcolor\": \"white\", \"linecolor\": \"white\", \"minorgridcolor\": \"white\", \"startlinecolor\": \"#2a3f5f\"}, \"baxis\": {\"endlinecolor\": \"#2a3f5f\", \"gridcolor\": \"white\", \"linecolor\": \"white\", \"minorgridcolor\": \"white\", \"startlinecolor\": \"#2a3f5f\"}, \"type\": \"carpet\"}], \"choropleth\": [{\"colorbar\": {\"outlinewidth\": 0, \"ticks\": \"\"}, \"type\": \"choropleth\"}], \"contour\": [{\"colorbar\": {\"outlinewidth\": 0, \"ticks\": \"\"}, \"colorscale\": [[0.0, \"#0d0887\"], [0.1111111111111111, \"#46039f\"], [0.2222222222222222, \"#7201a8\"], [0.3333333333333333, \"#9c179e\"], [0.4444444444444444, \"#bd3786\"], [0.5555555555555556, \"#d8576b\"], [0.6666666666666666, \"#ed7953\"], [0.7777777777777778, \"#fb9f3a\"], [0.8888888888888888, \"#fdca26\"], [1.0, \"#f0f921\"]], \"type\": \"contour\"}], \"contourcarpet\": [{\"colorbar\": {\"outlinewidth\": 0, \"ticks\": \"\"}, \"type\": \"contourcarpet\"}], \"heatmap\": [{\"colorbar\": {\"outlinewidth\": 0, \"ticks\": \"\"}, \"colorscale\": [[0.0, \"#0d0887\"], [0.1111111111111111, \"#46039f\"], [0.2222222222222222, \"#7201a8\"], [0.3333333333333333, \"#9c179e\"], [0.4444444444444444, \"#bd3786\"], [0.5555555555555556, \"#d8576b\"], [0.6666666666666666, \"#ed7953\"], [0.7777777777777778, \"#fb9f3a\"], [0.8888888888888888, \"#fdca26\"], [1.0, \"#f0f921\"]], \"type\": \"heatmap\"}], \"heatmapgl\": [{\"colorbar\": {\"outlinewidth\": 0, \"ticks\": \"\"}, \"colorscale\": [[0.0, \"#0d0887\"], [0.1111111111111111, \"#46039f\"], [0.2222222222222222, \"#7201a8\"], [0.3333333333333333, \"#9c179e\"], [0.4444444444444444, \"#bd3786\"], [0.5555555555555556, \"#d8576b\"], [0.6666666666666666, \"#ed7953\"], [0.7777777777777778, \"#fb9f3a\"], [0.8888888888888888, \"#fdca26\"], [1.0, \"#f0f921\"]], \"type\": \"heatmapgl\"}], \"histogram\": [{\"marker\": {\"colorbar\": {\"outlinewidth\": 0, \"ticks\": \"\"}}, \"type\": \"histogram\"}], \"histogram2d\": [{\"colorbar\": {\"outlinewidth\": 0, \"ticks\": \"\"}, \"colorscale\": [[0.0, \"#0d0887\"], [0.1111111111111111, \"#46039f\"], [0.2222222222222222, \"#7201a8\"], [0.3333333333333333, \"#9c179e\"], [0.4444444444444444, \"#bd3786\"], [0.5555555555555556, \"#d8576b\"], [0.6666666666666666, \"#ed7953\"], [0.7777777777777778, \"#fb9f3a\"], [0.8888888888888888, \"#fdca26\"], [1.0, \"#f0f921\"]], \"type\": \"histogram2d\"}], \"histogram2dcontour\": [{\"colorbar\": {\"outlinewidth\": 0, \"ticks\": \"\"}, \"colorscale\": [[0.0, \"#0d0887\"], [0.1111111111111111, \"#46039f\"], [0.2222222222222222, \"#7201a8\"], [0.3333333333333333, \"#9c179e\"], [0.4444444444444444, \"#bd3786\"], [0.5555555555555556, \"#d8576b\"], [0.6666666666666666, \"#ed7953\"], [0.7777777777777778, \"#fb9f3a\"], [0.8888888888888888, \"#fdca26\"], [1.0, \"#f0f921\"]], \"type\": \"histogram2dcontour\"}], \"mesh3d\": [{\"colorbar\": {\"outlinewidth\": 0, \"ticks\": \"\"}, \"type\": \"mesh3d\"}], \"parcoords\": [{\"line\": {\"colorbar\": {\"outlinewidth\": 0, \"ticks\": \"\"}}, \"type\": \"parcoords\"}], \"pie\": [{\"automargin\": true, \"type\": \"pie\"}], \"scatter\": [{\"marker\": {\"colorbar\": {\"outlinewidth\": 0, \"ticks\": \"\"}}, \"type\": \"scatter\"}], \"scatter3d\": [{\"line\": {\"colorbar\": {\"outlinewidth\": 0, \"ticks\": \"\"}}, \"marker\": {\"colorbar\": {\"outlinewidth\": 0, \"ticks\": \"\"}}, \"type\": \"scatter3d\"}], \"scattercarpet\": [{\"marker\": {\"colorbar\": {\"outlinewidth\": 0, \"ticks\": \"\"}}, \"type\": \"scattercarpet\"}], \"scattergeo\": [{\"marker\": {\"colorbar\": {\"outlinewidth\": 0, \"ticks\": \"\"}}, \"type\": \"scattergeo\"}], \"scattergl\": [{\"marker\": {\"colorbar\": {\"outlinewidth\": 0, \"ticks\": \"\"}}, \"type\": \"scattergl\"}], \"scattermapbox\": [{\"marker\": {\"colorbar\": {\"outlinewidth\": 0, \"ticks\": \"\"}}, \"type\": \"scattermapbox\"}], \"scatterpolar\": [{\"marker\": {\"colorbar\": {\"outlinewidth\": 0, \"ticks\": \"\"}}, \"type\": \"scatterpolar\"}], \"scatterpolargl\": [{\"marker\": {\"colorbar\": {\"outlinewidth\": 0, \"ticks\": \"\"}}, \"type\": \"scatterpolargl\"}], \"scatterternary\": [{\"marker\": {\"colorbar\": {\"outlinewidth\": 0, \"ticks\": \"\"}}, \"type\": \"scatterternary\"}], \"surface\": [{\"colorbar\": {\"outlinewidth\": 0, \"ticks\": \"\"}, \"colorscale\": [[0.0, \"#0d0887\"], [0.1111111111111111, \"#46039f\"], [0.2222222222222222, \"#7201a8\"], [0.3333333333333333, \"#9c179e\"], [0.4444444444444444, \"#bd3786\"], [0.5555555555555556, \"#d8576b\"], [0.6666666666666666, \"#ed7953\"], [0.7777777777777778, \"#fb9f3a\"], [0.8888888888888888, \"#fdca26\"], [1.0, \"#f0f921\"]], \"type\": \"surface\"}], \"table\": [{\"cells\": {\"fill\": {\"color\": \"#EBF0F8\"}, \"line\": {\"color\": \"white\"}}, \"header\": {\"fill\": {\"color\": \"#C8D4E3\"}, \"line\": {\"color\": \"white\"}}, \"type\": \"table\"}]}, \"layout\": {\"annotationdefaults\": {\"arrowcolor\": \"#2a3f5f\", \"arrowhead\": 0, \"arrowwidth\": 1}, \"coloraxis\": {\"colorbar\": {\"outlinewidth\": 0, \"ticks\": \"\"}}, \"colorscale\": {\"diverging\": [[0, \"#8e0152\"], [0.1, \"#c51b7d\"], [0.2, \"#de77ae\"], [0.3, \"#f1b6da\"], [0.4, \"#fde0ef\"], [0.5, \"#f7f7f7\"], [0.6, \"#e6f5d0\"], [0.7, \"#b8e186\"], [0.8, \"#7fbc41\"], [0.9, \"#4d9221\"], [1, \"#276419\"]], \"sequential\": [[0.0, \"#0d0887\"], [0.1111111111111111, \"#46039f\"], [0.2222222222222222, \"#7201a8\"], [0.3333333333333333, \"#9c179e\"], [0.4444444444444444, \"#bd3786\"], [0.5555555555555556, \"#d8576b\"], [0.6666666666666666, \"#ed7953\"], [0.7777777777777778, \"#fb9f3a\"], [0.8888888888888888, \"#fdca26\"], [1.0, \"#f0f921\"]], \"sequentialminus\": [[0.0, \"#0d0887\"], [0.1111111111111111, \"#46039f\"], [0.2222222222222222, \"#7201a8\"], [0.3333333333333333, \"#9c179e\"], [0.4444444444444444, \"#bd3786\"], [0.5555555555555556, \"#d8576b\"], [0.6666666666666666, \"#ed7953\"], [0.7777777777777778, \"#fb9f3a\"], [0.8888888888888888, \"#fdca26\"], [1.0, \"#f0f921\"]]}, \"colorway\": [\"#636efa\", \"#EF553B\", \"#00cc96\", \"#ab63fa\", \"#FFA15A\", \"#19d3f3\", \"#FF6692\", \"#B6E880\", \"#FF97FF\", \"#FECB52\"], \"font\": {\"color\": \"#2a3f5f\"}, \"geo\": {\"bgcolor\": \"white\", \"lakecolor\": \"white\", \"landcolor\": \"#E5ECF6\", \"showlakes\": true, \"showland\": true, \"subunitcolor\": \"white\"}, \"hoverlabel\": {\"align\": \"left\"}, \"hovermode\": \"closest\", \"mapbox\": {\"style\": \"light\"}, \"paper_bgcolor\": \"white\", \"plot_bgcolor\": \"#E5ECF6\", \"polar\": {\"angularaxis\": {\"gridcolor\": \"white\", \"linecolor\": \"white\", \"ticks\": \"\"}, \"bgcolor\": \"#E5ECF6\", \"radialaxis\": {\"gridcolor\": \"white\", \"linecolor\": \"white\", \"ticks\": \"\"}}, \"scene\": {\"xaxis\": {\"backgroundcolor\": \"#E5ECF6\", \"gridcolor\": \"white\", \"gridwidth\": 2, \"linecolor\": \"white\", \"showbackground\": true, \"ticks\": \"\", \"zerolinecolor\": \"white\"}, \"yaxis\": {\"backgroundcolor\": \"#E5ECF6\", \"gridcolor\": \"white\", \"gridwidth\": 2, \"linecolor\": \"white\", \"showbackground\": true, \"ticks\": \"\", \"zerolinecolor\": \"white\"}, \"zaxis\": {\"backgroundcolor\": \"#E5ECF6\", \"gridcolor\": \"white\", \"gridwidth\": 2, \"linecolor\": \"white\", \"showbackground\": true, \"ticks\": \"\", \"zerolinecolor\": \"white\"}}, \"shapedefaults\": {\"line\": {\"color\": \"#2a3f5f\"}}, \"ternary\": {\"aaxis\": {\"gridcolor\": \"white\", \"linecolor\": \"white\", \"ticks\": \"\"}, \"baxis\": {\"gridcolor\": \"white\", \"linecolor\": \"white\", \"ticks\": \"\"}, \"bgcolor\": \"#E5ECF6\", \"caxis\": {\"gridcolor\": \"white\", \"linecolor\": \"white\", \"ticks\": \"\"}}, \"title\": {\"x\": 0.05}, \"xaxis\": {\"automargin\": true, \"gridcolor\": \"white\", \"linecolor\": \"white\", \"ticks\": \"\", \"title\": {\"standoff\": 15}, \"zerolinecolor\": \"white\", \"zerolinewidth\": 2}, \"yaxis\": {\"automargin\": true, \"gridcolor\": \"white\", \"linecolor\": \"white\", \"ticks\": \"\", \"title\": {\"standoff\": 15}, \"zerolinecolor\": \"white\", \"zerolinewidth\": 2}}}, \"title\": {\"text\": \"Visualizing Clusters in Three Dimensions Using PCA\"}, \"xaxis\": {\"ticklen\": 5, \"title\": {\"text\": \"PC1\"}, \"zeroline\": false}, \"yaxis\": {\"ticklen\": 5, \"title\": {\"text\": \"PC2\"}, \"zeroline\": false}},\n",
       "                        {\"responsive\": true}\n",
       "                    ).then(function(){\n",
       "                            \n",
       "var gd = document.getElementById('7e38884f-66c2-43c0-bf90-6caa7586e766');\n",
       "var x = new MutationObserver(function (mutations, observer) {{\n",
       "        var display = window.getComputedStyle(gd).display;\n",
       "        if (!display || display === 'none') {{\n",
       "            console.log([gd, 'removed!']);\n",
       "            Plotly.purge(gd);\n",
       "            observer.disconnect();\n",
       "        }}\n",
       "}});\n",
       "\n",
       "// Listen for the removal of the full notebook cells\n",
       "var notebookContainer = gd.closest('#notebook-container');\n",
       "if (notebookContainer) {{\n",
       "    x.observe(notebookContainer, {childList: true});\n",
       "}}\n",
       "\n",
       "// Listen for the clearing of the current output cell\n",
       "var outputEl = gd.closest('.output');\n",
       "if (outputEl) {{\n",
       "    x.observe(outputEl, {childList: true});\n",
       "}}\n",
       "\n",
       "                        })\n",
       "                };\n",
       "                });\n",
       "            </script>\n",
       "        </div>"
      ]
     },
     "metadata": {},
     "output_type": "display_data"
    }
   ],
   "source": [
    "trace1 = go.Scatter3d(\n",
    "                    x = cluster6[\"PC1_3d\"],\n",
    "                    y = cluster6[\"PC2_3d\"],\n",
    "                    z = cluster6[\"PC3_3d\"],\n",
    "                    mode = \"markers\",\n",
    "                    name = \"Cluster 6\",\n",
    "                    marker = dict(color = 'rgba(255, 128, 255, 0.8)'),\n",
    "                    text = None)\n",
    "\n",
    "#trace2 is for 'Cluster 1'\n",
    "trace2 = go.Scatter3d(\n",
    "                    x = cluster0[\"PC1_3d\"],\n",
    "                    y = cluster0[\"PC2_3d\"],\n",
    "                    z = cluster0[\"PC3_3d\"],\n",
    "                    mode = \"markers\",\n",
    "                    name = \"Cluster 0\",\n",
    "                    marker = dict(color = 'rgba(255, 128, 2, 0.8)'),\n",
    "                    text = None)\n",
    "\n",
    "#trace3 is for 'Cluster 2'\n",
    "trace3 = go.Scatter3d(\n",
    "                    x = cluster4[\"PC1_3d\"],\n",
    "                    y = cluster4[\"PC2_3d\"],\n",
    "                    z = cluster4[\"PC3_3d\"],\n",
    "                    mode = \"markers\",\n",
    "                    name = \"Cluster 4\",\n",
    "                    marker = dict(color = 'rgba(0, 255, 200, 0.8)'),\n",
    "                    text = None)\n",
    "\n",
    "data = [trace1, trace2,trace3]\n",
    "\n",
    "title = \"Visualizing Clusters in Three Dimensions Using PCA\"\n",
    "\n",
    "layout = dict(title = title,\n",
    "              xaxis= dict(title= 'PC1',ticklen= 5,zeroline= False),\n",
    "              yaxis= dict(title= 'PC2',ticklen= 5,zeroline= False)\n",
    "             )\n",
    "\n",
    "fig = dict(data = data, layout = layout)\n",
    "\n",
    "iplot(fig)"
   ]
  },
  {
   "cell_type": "markdown",
   "metadata": {},
   "source": [
    "### Visualizing on a map"
   ]
  },
  {
   "cell_type": "code",
   "execution_count": 248,
   "metadata": {},
   "outputs": [
    {
     "data": {
      "text/html": [
       "<div style=\"width:100%;\"><div style=\"position:relative;width:100%;height:0;padding-bottom:60%;\"><span style=\"color:#565656\">Make this Notebook Trusted to load map: File -> Trust Notebook</span><iframe src=\"about:blank\" style=\"position:absolute;width:100%;height:100%;left:0;top:0;border:none !important;\" data-html=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 onload=\"this.contentDocument.open();this.contentDocument.write(atob(this.getAttribute('data-html')));this.contentDocument.close();\" allowfullscreen webkitallowfullscreen mozallowfullscreen></iframe></div></div>"
      ],
      "text/plain": [
       "<folium.folium.Map at 0x1e1ab78fb70>"
      ]
     },
     "execution_count": 248,
     "metadata": {},
     "output_type": "execute_result"
    }
   ],
   "source": [
    "# create map\n",
    "map_clusters = folium.Map(location=[latitude, longitude], zoom_start=11)\n",
    "\n",
    "# set color scheme for the clusters\n",
    "x = np.arange(kclusters)\n",
    "ys = [i + x + (i*x)**2 for i in range(kclusters)]\n",
    "colors_array = cm.rainbow(np.linspace(0, 1, len(ys)))\n",
    "rainbow = [colors.rgb2hex(i) for i in colors_array]\n",
    "\n",
    "# add markers to the map\n",
    "markers_colors = []\n",
    "for lat, lon, poi, cluster in zip(colombo_merged['Neighborhood Latitude'], colombo_merged['Neighborhood Longitude'], colombo_merged['Neighborhood'], colombo_merged['Cluster Labels']):\n",
    "    label = folium.Popup(str(poi) + ' Cluster ' + str(cluster), parse_html=True)\n",
    "    folium.CircleMarker(\n",
    "        [lat, lon],\n",
    "        radius=6,\n",
    "        popup=label,\n",
    "        color=rainbow[cluster-1],\n",
    "        fill=True,\n",
    "        fill_color=rainbow[cluster-1],\n",
    "        fill_opacity=1).add_to(map_clusters)\n",
    "       \n",
    "map_clusters"
   ]
  },
  {
   "cell_type": "markdown",
   "metadata": {},
   "source": [
    "### Explore the fod scene within the clusters"
   ]
  },
  {
   "cell_type": "code",
   "execution_count": 210,
   "metadata": {},
   "outputs": [],
   "source": [
    "food_var=['Neighborhood',\n",
    "  'Asian Restaurant',\n",
    "  'BBQ Joint',\n",
    "  'Bakery',\n",
    " 'Bar',\n",
    " 'Bistro',\n",
    " 'Breakfast Spot',\n",
    " 'Brewery',\n",
    " 'Bubble Tea Shop',\n",
    " 'Burger Joint',\n",
    " 'Cafeteria',\n",
    " 'Café',\n",
    " 'Chinese Restaurant',\n",
    " 'Cocktail Bar',\n",
    " 'Coffee Shop',\n",
    " 'Comfort Food Restaurant',\n",
    " 'Cuban Restaurant',\n",
    " 'Cupcake Shop',\n",
    "  'Dessert Shop',\n",
    " 'Diner',\n",
    " 'Donut Shop',\n",
    " 'Eastern European Restaurant',\n",
    " 'English Restaurant',\n",
    " 'Fast Food Restaurant',\n",
    " 'Fish & Chips Shop',\n",
    " 'Fondue Restaurant',\n",
    " 'Food',\n",
    " 'Food & Drink Shop',\n",
    " 'Food Court',\n",
    " 'Food Truck',\n",
    " 'French Restaurant',\n",
    " 'Gastropub',\n",
    " 'German Restaurant',\n",
    "  'Halal Restaurant',\n",
    " 'Hookah Bar',\n",
    " 'Hot Dog Joint',\n",
    " 'Hotel Bar',\n",
    " 'Ice Cream Shop',\n",
    " 'Indian Chinese Restaurant',\n",
    " 'Indian Restaurant',\n",
    " 'Irish Pub',\n",
    " 'Italian Restaurant',\n",
    " 'Japanese Restaurant',\n",
    "  'Juice Bar',\n",
    " 'Malay Restaurant',\n",
    " 'Mediterranean Restaurant',\n",
    " 'Middle Eastern Restaurant',\n",
    " 'Noodle House',\n",
    " 'North Indian Restaurant',\n",
    "  'Pakistani Restaurant',\n",
    " 'Pizza Place',\n",
    " 'Pub',\n",
    " 'Restaurant',\n",
    " 'Sandwich Place',\n",
    " 'Seafood Restaurant',\n",
    " 'Snack Place',\n",
    " 'South Indian Restaurant',\n",
    " 'Sri Lankan Restaurant',\n",
    " 'Steakhouse',\n",
    "  'Sushi Restaurant',\n",
    " 'Taco Place',\n",
    " 'Tapas Restaurant',\n",
    " 'Tea Room',\n",
    "  'Thai Restaurant',\n",
    " 'Vegetarian / Vegan Restaurant',\n",
    " 'Vietnamese Restaurant',\n",
    "]"
   ]
  },
  {
   "cell_type": "code",
   "execution_count": 207,
   "metadata": {},
   "outputs": [],
   "source": [
    "#Variables for food places possibly containing pizza\n",
    "pizza_var=['Neighborhood',\n",
    "  'Bar',\n",
    "  'Bistro',\n",
    "  'Café',\n",
    "  'Coffee Shop',\n",
    "  'Comfort Food Restaurant',\n",
    "  'Diner',\n",
    "  'Fast Food Restaurant',\n",
    "  'Fish & Chips Shop',\n",
    "  'Food Court',\n",
    "  'Food Truck',\n",
    "  'Hotel Bar',\n",
    "  'Irish Pub',\n",
    "  'Italian Restaurant',\n",
    "  'Pizza Place',\n",
    "  'Pub',\n",
    "  'Restaurant',\n",
    "  'Sandwich Place',\n",
    "  'Seafood Restaurant',\n",
    "  'Snack Place',\n",
    "  'Tapas Restaurant',\n",
    "  'Vegetarian / Vegan Restaurant',\n",
    "]"
   ]
  },
  {
   "cell_type": "markdown",
   "metadata": {},
   "source": [
    "### Observing presence of food spots vs places that potentially sell pizza\n",
    "\n",
    "The reason for this is the ideal suburb will have many restaurants but fewer that would be competition"
   ]
  },
  {
   "cell_type": "markdown",
   "metadata": {},
   "source": [
    "#### Cluster 0"
   ]
  },
  {
   "cell_type": "code",
   "execution_count": 251,
   "metadata": {
    "collapsed": true
   },
   "outputs": [
    {
     "name": "stderr",
     "output_type": "stream",
     "text": [
      "C:\\ProgramData\\Anaconda3\\lib\\site-packages\\ipykernel_launcher.py:1: SettingWithCopyWarning:\n",
      "\n",
      "\n",
      "A value is trying to be set on a copy of a slice from a DataFrame.\n",
      "Try using .loc[row_indexer,col_indexer] = value instead\n",
      "\n",
      "See the caveats in the documentation: https://pandas.pydata.org/pandas-docs/stable/user_guide/indexing.html#returning-a-view-versus-a-copy\n",
      "\n",
      "C:\\ProgramData\\Anaconda3\\lib\\site-packages\\ipykernel_launcher.py:2: SettingWithCopyWarning:\n",
      "\n",
      "\n",
      "A value is trying to be set on a copy of a slice from a DataFrame.\n",
      "Try using .loc[row_indexer,col_indexer] = value instead\n",
      "\n",
      "See the caveats in the documentation: https://pandas.pydata.org/pandas-docs/stable/user_guide/indexing.html#returning-a-view-versus-a-copy\n",
      "\n",
      "C:\\ProgramData\\Anaconda3\\lib\\site-packages\\ipykernel_launcher.py:3: SettingWithCopyWarning:\n",
      "\n",
      "\n",
      "A value is trying to be set on a copy of a slice from a DataFrame.\n",
      "Try using .loc[row_indexer,col_indexer] = value instead\n",
      "\n",
      "See the caveats in the documentation: https://pandas.pydata.org/pandas-docs/stable/user_guide/indexing.html#returning-a-view-versus-a-copy\n",
      "\n"
     ]
    }
   ],
   "source": [
    "cluster0['Food Total']=cluster0[food_var].sum(axis=1)\n",
    "cluster0['Pizza Total']=cluster0[pizza_var].sum(axis=1)\n",
    "cluster0['Food Pizza Ratio']=cluster0['Food Total']/cluster0['Pizza Total']"
   ]
  },
  {
   "cell_type": "code",
   "execution_count": 259,
   "metadata": {},
   "outputs": [
    {
     "data": {
      "text/html": [
       "<div>\n",
       "<style scoped>\n",
       "    .dataframe tbody tr th:only-of-type {\n",
       "        vertical-align: middle;\n",
       "    }\n",
       "\n",
       "    .dataframe tbody tr th {\n",
       "        vertical-align: top;\n",
       "    }\n",
       "\n",
       "    .dataframe thead th {\n",
       "        text-align: right;\n",
       "    }\n",
       "</style>\n",
       "<table border=\"1\" class=\"dataframe\">\n",
       "  <thead>\n",
       "    <tr style=\"text-align: right;\">\n",
       "      <th></th>\n",
       "      <th>Neighborhood</th>\n",
       "      <th>Food Total</th>\n",
       "      <th>Pizza Total</th>\n",
       "      <th>Food Pizza Ratio</th>\n",
       "    </tr>\n",
       "  </thead>\n",
       "  <tbody>\n",
       "    <tr>\n",
       "      <th>42</th>\n",
       "      <td>Nugegoda</td>\n",
       "      <td>0.384615</td>\n",
       "      <td>0.076923</td>\n",
       "      <td>5.000000</td>\n",
       "    </tr>\n",
       "    <tr>\n",
       "      <th>28</th>\n",
       "      <td>Koswatte</td>\n",
       "      <td>0.333333</td>\n",
       "      <td>0.083333</td>\n",
       "      <td>4.000000</td>\n",
       "    </tr>\n",
       "    <tr>\n",
       "      <th>34</th>\n",
       "      <td>Maharagama</td>\n",
       "      <td>0.379310</td>\n",
       "      <td>0.103448</td>\n",
       "      <td>3.666667</td>\n",
       "    </tr>\n",
       "    <tr>\n",
       "      <th>39</th>\n",
       "      <td>Moratuwa</td>\n",
       "      <td>0.523810</td>\n",
       "      <td>0.142857</td>\n",
       "      <td>3.666667</td>\n",
       "    </tr>\n",
       "    <tr>\n",
       "      <th>29</th>\n",
       "      <td>Kotahena</td>\n",
       "      <td>0.350000</td>\n",
       "      <td>0.100000</td>\n",
       "      <td>3.500000</td>\n",
       "    </tr>\n",
       "  </tbody>\n",
       "</table>\n",
       "</div>"
      ],
      "text/plain": [
       "   Neighborhood  Food Total  Pizza Total  Food Pizza Ratio\n",
       "42     Nugegoda    0.384615     0.076923          5.000000\n",
       "28     Koswatte    0.333333     0.083333          4.000000\n",
       "34   Maharagama    0.379310     0.103448          3.666667\n",
       "39     Moratuwa    0.523810     0.142857          3.666667\n",
       "29     Kotahena    0.350000     0.100000          3.500000"
      ]
     },
     "execution_count": 259,
     "metadata": {},
     "output_type": "execute_result"
    }
   ],
   "source": [
    "pizza0=(cluster0[['Neighborhood','Food Total','Pizza Total','Food Pizza Ratio']].sort_values('Food Pizza Ratio',ascending=False)\n",
    "                                                                         .replace(np.inf,np.nan)\n",
    "                                                                         .dropna())\n",
    "pizza0.head()"
   ]
  },
  {
   "cell_type": "code",
   "execution_count": 282,
   "metadata": {},
   "outputs": [
    {
     "data": {
      "image/png": "[encoded data removed]",
      "text/plain": [
       "<Figure size 1152x720 with 1 Axes>"
      ]
     },
     "metadata": {
      "needs_background": "light"
     },
     "output_type": "display_data"
    }
   ],
   "source": [
    "plt.figure(figsize=(16,10))\n",
    "ax=sns.scatterplot(data=pizza0,x='Food Total',y='Pizza Total',hue='Neighborhood',size='Food Pizza Ratio',sizes=(40,400))\n",
    "# Put the legend out of the figure\n",
    "#plt.legend(bbox_to_anchor=(1.05, 1), loc=2, borderaxespad=0.)\n",
    "ax.legend().remove()\n",
    "\n",
    "for line in range(0,pizza0.shape[0]):\n",
    "     ax.text(pizza0['Food Total'].iloc[line], pizza0['Pizza Total'].iloc[line], pizza0.Neighborhood.iloc[line], horizontalalignment='center', size='medium', color='black', weight='semibold')"
   ]
  },
  {
   "cell_type": "markdown",
   "metadata": {},
   "source": [
    "These seem to all be slightly outer suburbs to the heart of the city, or suburbs in the city but not the commerical hub; which have a large number of restaurants and eating but relatively less pizza spots, worth noting these suburbs see heavy movement of people and are ideal for restaurants."
   ]
  },
  {
   "cell_type": "markdown",
   "metadata": {},
   "source": [
    "By looking at a 2x2 of the above visual it becomes apparent in this cluster the most promising venue for a Pizzeria in this cluster is Moratuwa."
   ]
  },
  {
   "cell_type": "markdown",
   "metadata": {},
   "source": [
    "#### Cluster 6"
   ]
  },
  {
   "cell_type": "code",
   "execution_count": 299,
   "metadata": {
    "collapsed": true
   },
   "outputs": [
    {
     "name": "stderr",
     "output_type": "stream",
     "text": [
      "C:\\ProgramData\\Anaconda3\\lib\\site-packages\\ipykernel_launcher.py:1: SettingWithCopyWarning:\n",
      "\n",
      "\n",
      "A value is trying to be set on a copy of a slice from a DataFrame.\n",
      "Try using .loc[row_indexer,col_indexer] = value instead\n",
      "\n",
      "See the caveats in the documentation: https://pandas.pydata.org/pandas-docs/stable/user_guide/indexing.html#returning-a-view-versus-a-copy\n",
      "\n",
      "C:\\ProgramData\\Anaconda3\\lib\\site-packages\\ipykernel_launcher.py:2: SettingWithCopyWarning:\n",
      "\n",
      "\n",
      "A value is trying to be set on a copy of a slice from a DataFrame.\n",
      "Try using .loc[row_indexer,col_indexer] = value instead\n",
      "\n",
      "See the caveats in the documentation: https://pandas.pydata.org/pandas-docs/stable/user_guide/indexing.html#returning-a-view-versus-a-copy\n",
      "\n",
      "C:\\ProgramData\\Anaconda3\\lib\\site-packages\\ipykernel_launcher.py:3: SettingWithCopyWarning:\n",
      "\n",
      "\n",
      "A value is trying to be set on a copy of a slice from a DataFrame.\n",
      "Try using .loc[row_indexer,col_indexer] = value instead\n",
      "\n",
      "See the caveats in the documentation: https://pandas.pydata.org/pandas-docs/stable/user_guide/indexing.html#returning-a-view-versus-a-copy\n",
      "\n"
     ]
    }
   ],
   "source": [
    "cluster6['Food Total']=cluster6[food_var].sum(axis=1)\n",
    "cluster6['Pizza Total']=cluster6[pizza_var].sum(axis=1)\n",
    "cluster6['Food Pizza Ratio']=cluster6['Food Total']/cluster6['Pizza Total']"
   ]
  },
  {
   "cell_type": "code",
   "execution_count": 300,
   "metadata": {},
   "outputs": [
    {
     "data": {
      "text/html": [
       "<div>\n",
       "<style scoped>\n",
       "    .dataframe tbody tr th:only-of-type {\n",
       "        vertical-align: middle;\n",
       "    }\n",
       "\n",
       "    .dataframe tbody tr th {\n",
       "        vertical-align: top;\n",
       "    }\n",
       "\n",
       "    .dataframe thead th {\n",
       "        text-align: right;\n",
       "    }\n",
       "</style>\n",
       "<table border=\"1\" class=\"dataframe\">\n",
       "  <thead>\n",
       "    <tr style=\"text-align: right;\">\n",
       "      <th></th>\n",
       "      <th>Neighborhood</th>\n",
       "      <th>Food Total</th>\n",
       "      <th>Pizza Total</th>\n",
       "      <th>Food Pizza Ratio</th>\n",
       "    </tr>\n",
       "  </thead>\n",
       "  <tbody>\n",
       "    <tr>\n",
       "      <th>11</th>\n",
       "      <td>Dematagoda</td>\n",
       "      <td>0.250000</td>\n",
       "      <td>0.062500</td>\n",
       "      <td>4.0000</td>\n",
       "    </tr>\n",
       "    <tr>\n",
       "      <th>18</th>\n",
       "      <td>Kaduwela, Western Province</td>\n",
       "      <td>0.307692</td>\n",
       "      <td>0.076923</td>\n",
       "      <td>4.0000</td>\n",
       "    </tr>\n",
       "    <tr>\n",
       "      <th>1</th>\n",
       "      <td>Bambalapitiya</td>\n",
       "      <td>0.513889</td>\n",
       "      <td>0.222222</td>\n",
       "      <td>2.3125</td>\n",
       "    </tr>\n",
       "    <tr>\n",
       "      <th>26</th>\n",
       "      <td>Kollupitiya</td>\n",
       "      <td>0.631579</td>\n",
       "      <td>0.315789</td>\n",
       "      <td>2.0000</td>\n",
       "    </tr>\n",
       "    <tr>\n",
       "      <th>54</th>\n",
       "      <td>Sri Jayawardenepura Kotte</td>\n",
       "      <td>0.400000</td>\n",
       "      <td>0.200000</td>\n",
       "      <td>2.0000</td>\n",
       "    </tr>\n",
       "  </tbody>\n",
       "</table>\n",
       "</div>"
      ],
      "text/plain": [
       "                  Neighborhood  Food Total  Pizza Total  Food Pizza Ratio\n",
       "11                  Dematagoda    0.250000     0.062500            4.0000\n",
       "18  Kaduwela, Western Province    0.307692     0.076923            4.0000\n",
       "1                Bambalapitiya    0.513889     0.222222            2.3125\n",
       "26                 Kollupitiya    0.631579     0.315789            2.0000\n",
       "54   Sri Jayawardenepura Kotte    0.400000     0.200000            2.0000"
      ]
     },
     "execution_count": 300,
     "metadata": {},
     "output_type": "execute_result"
    }
   ],
   "source": [
    "pizza6=(cluster6[['Neighborhood','Food Total','Pizza Total','Food Pizza Ratio']].sort_values('Food Pizza Ratio',ascending=False)\n",
    "                                                                         .replace(np.inf,np.nan)\n",
    "                                                                         .dropna())\n",
    "pizza6.head()"
   ]
  },
  {
   "cell_type": "code",
   "execution_count": 301,
   "metadata": {},
   "outputs": [
    {
     "data": {
      "image/png": "[encoded data removed]",
      "text/plain": [
       "<Figure size 1152x720 with 1 Axes>"
      ]
     },
     "metadata": {
      "needs_background": "light"
     },
     "output_type": "display_data"
    }
   ],
   "source": [
    "plt.figure(figsize=(16,10))\n",
    "ax=sns.scatterplot(data=pizza6,x='Food Total',y='Pizza Total',hue='Neighborhood',size='Food Pizza Ratio',sizes=(40,400))\n",
    "# Put the legend out of the figure\n",
    "#plt.legend(bbox_to_anchor=(1.05, 1), loc=2, borderaxespad=0.)\n",
    "ax.legend().remove()\n",
    "\n",
    "for line in range(0,pizza6.shape[0]):\n",
    "     ax.text(pizza6['Food Total'].iloc[line], pizza6['Pizza Total'].iloc[line], pizza6.Neighborhood.iloc[line], horizontalalignment='center', size='medium', color='black', weight='semibold')"
   ]
  },
  {
   "cell_type": "markdown",
   "metadata": {},
   "source": [
    "This cluster seems to have captured the heart of the city (With 2 exceptions). Looking at the quadrants here both presence of pizza and food on average is quite high especially for the central suburbs Colombo"
   ]
  },
  {
   "cell_type": "markdown",
   "metadata": {},
   "source": [
    "It seems as though Sri Jayawardenapura Kotte, and Bambalapitiya show the most potential here, given that boh these locations are very central a slightly higher on average presence of potential pizza places is tolerable since the demand for food is also higher."
   ]
  },
  {
   "cell_type": "markdown",
   "metadata": {},
   "source": [
    "#### Cluster 4"
   ]
  },
  {
   "cell_type": "code",
   "execution_count": 302,
   "metadata": {
    "collapsed": true
   },
   "outputs": [
    {
     "name": "stderr",
     "output_type": "stream",
     "text": [
      "C:\\ProgramData\\Anaconda3\\lib\\site-packages\\ipykernel_launcher.py:1: SettingWithCopyWarning:\n",
      "\n",
      "\n",
      "A value is trying to be set on a copy of a slice from a DataFrame.\n",
      "Try using .loc[row_indexer,col_indexer] = value instead\n",
      "\n",
      "See the caveats in the documentation: https://pandas.pydata.org/pandas-docs/stable/user_guide/indexing.html#returning-a-view-versus-a-copy\n",
      "\n",
      "C:\\ProgramData\\Anaconda3\\lib\\site-packages\\ipykernel_launcher.py:2: SettingWithCopyWarning:\n",
      "\n",
      "\n",
      "A value is trying to be set on a copy of a slice from a DataFrame.\n",
      "Try using .loc[row_indexer,col_indexer] = value instead\n",
      "\n",
      "See the caveats in the documentation: https://pandas.pydata.org/pandas-docs/stable/user_guide/indexing.html#returning-a-view-versus-a-copy\n",
      "\n",
      "C:\\ProgramData\\Anaconda3\\lib\\site-packages\\ipykernel_launcher.py:3: SettingWithCopyWarning:\n",
      "\n",
      "\n",
      "A value is trying to be set on a copy of a slice from a DataFrame.\n",
      "Try using .loc[row_indexer,col_indexer] = value instead\n",
      "\n",
      "See the caveats in the documentation: https://pandas.pydata.org/pandas-docs/stable/user_guide/indexing.html#returning-a-view-versus-a-copy\n",
      "\n"
     ]
    }
   ],
   "source": [
    "cluster4['Food Total']=cluster4[food_var].sum(axis=1)\n",
    "cluster4['Pizza Total']=cluster4[pizza_var].sum(axis=1)\n",
    "cluster4['Food Pizza Ratio']=cluster4['Food Total']/cluster4['Pizza Total']"
   ]
  },
  {
   "cell_type": "code",
   "execution_count": 303,
   "metadata": {},
   "outputs": [
    {
     "data": {
      "text/html": [
       "<div>\n",
       "<style scoped>\n",
       "    .dataframe tbody tr th:only-of-type {\n",
       "        vertical-align: middle;\n",
       "    }\n",
       "\n",
       "    .dataframe tbody tr th {\n",
       "        vertical-align: top;\n",
       "    }\n",
       "\n",
       "    .dataframe thead th {\n",
       "        text-align: right;\n",
       "    }\n",
       "</style>\n",
       "<table border=\"1\" class=\"dataframe\">\n",
       "  <thead>\n",
       "    <tr style=\"text-align: right;\">\n",
       "      <th></th>\n",
       "      <th>Neighborhood</th>\n",
       "      <th>Food Total</th>\n",
       "      <th>Pizza Total</th>\n",
       "      <th>Food Pizza Ratio</th>\n",
       "    </tr>\n",
       "  </thead>\n",
       "  <tbody>\n",
       "    <tr>\n",
       "      <th>2</th>\n",
       "      <td>Battaramulla</td>\n",
       "      <td>0.666667</td>\n",
       "      <td>0.066667</td>\n",
       "      <td>10.0</td>\n",
       "    </tr>\n",
       "    <tr>\n",
       "      <th>40</th>\n",
       "      <td>Narahenpita</td>\n",
       "      <td>0.400000</td>\n",
       "      <td>0.066667</td>\n",
       "      <td>6.0</td>\n",
       "    </tr>\n",
       "    <tr>\n",
       "      <th>21</th>\n",
       "      <td>Kandana</td>\n",
       "      <td>0.400000</td>\n",
       "      <td>0.100000</td>\n",
       "      <td>4.0</td>\n",
       "    </tr>\n",
       "    <tr>\n",
       "      <th>60</th>\n",
       "      <td>Wickramasinhapura</td>\n",
       "      <td>0.555556</td>\n",
       "      <td>0.222222</td>\n",
       "      <td>2.5</td>\n",
       "    </tr>\n",
       "    <tr>\n",
       "      <th>36</th>\n",
       "      <td>Maradana</td>\n",
       "      <td>0.476190</td>\n",
       "      <td>0.190476</td>\n",
       "      <td>2.5</td>\n",
       "    </tr>\n",
       "  </tbody>\n",
       "</table>\n",
       "</div>"
      ],
      "text/plain": [
       "         Neighborhood  Food Total  Pizza Total  Food Pizza Ratio\n",
       "2        Battaramulla    0.666667     0.066667              10.0\n",
       "40        Narahenpita    0.400000     0.066667               6.0\n",
       "21            Kandana    0.400000     0.100000               4.0\n",
       "60  Wickramasinhapura    0.555556     0.222222               2.5\n",
       "36           Maradana    0.476190     0.190476               2.5"
      ]
     },
     "execution_count": 303,
     "metadata": {},
     "output_type": "execute_result"
    }
   ],
   "source": [
    "pizza4=(cluster4[['Neighborhood','Food Total','Pizza Total','Food Pizza Ratio']].sort_values('Food Pizza Ratio',ascending=False)\n",
    "                                                                         .replace(np.inf,np.nan)\n",
    "                                                                         .dropna())\n",
    "pizza4.head()"
   ]
  },
  {
   "cell_type": "code",
   "execution_count": 304,
   "metadata": {},
   "outputs": [
    {
     "data": {
      "image/png": "[encoded data removed]",
      "text/plain": [
       "<Figure size 1152x720 with 1 Axes>"
      ]
     },
     "metadata": {
      "needs_background": "light"
     },
     "output_type": "display_data"
    }
   ],
   "source": [
    "plt.figure(figsize=(16,10))\n",
    "ax=sns.scatterplot(data=pizza4,x='Food Total',y='Pizza Total',hue='Neighborhood',size='Food Pizza Ratio',sizes=(40,400))\n",
    "# Put the legend out of the figure\n",
    "#plt.legend(bbox_to_anchor=(1.05, 1), loc=2, borderaxespad=0.)\n",
    "ax.legend().remove()\n",
    "\n",
    "for line in range(0,pizza4.shape[0]):\n",
    "     ax.text(pizza4['Food Total'].iloc[line], pizza4['Pizza Total'].iloc[line], pizza4.Neighborhood.iloc[line], horizontalalignment='center', size='medium', color='black', weight='semibold')"
   ]
  },
  {
   "cell_type": "markdown",
   "metadata": {},
   "source": [
    "This cluster does seem random, but definitely share common location types at a similar spread according to Foursquare which is why they've been grouped together. Battaramulla, Kandana, Narehenpita and Kaduwela are all highly residential suburbs in Colombo, with Battaramulla having gone vast development in the past few years. It seems there is a large potential for a pizzeria seeing as there is a large presence of restaurants which we assume to be driven by a demand for dining, takeaway etc."
   ]
  },
  {
   "cell_type": "markdown",
   "metadata": {},
   "source": [
    "## Conclusion"
   ]
  },
  {
   "cell_type": "markdown",
   "metadata": {},
   "source": [
    "Based on the clusters formed we were able to isolate suburbs and some common features to explain why they may have been clustered together, such as its position from city center, commercial resdiential nature etc.\n",
    "\n",
    "Therefore it would not have been sufficient to look at a need for a pizzeria treating all suburbs equally since the clusters of suburbs are very different to each other and therefore would naturally follow non-identical spending behaviours.\n",
    "\n",
    "Based on the above segmentation within clusters in a highly residential area with a seemingly large demand for restaurants, it seems the presence of restaurants selling pizzas is much less than the apparent food demand in <b>Battaramulla </b>. \n",
    "\n",
    "In the slightly further suburbs of Colombo it seems there is an opportunity to enter the market in <b> Moratuwa </b>."
   ]
  },
  {
   "cell_type": "code",
   "execution_count": null,
   "metadata": {},
   "outputs": [],
   "source": []
  }
 ],
 "metadata": {
  "kernelspec": {
   "display_name": "Python 3",
   "language": "python",
   "name": "python3"
  },
  "language_info": {
   "codemirror_mode": {
    "name": "ipython",
    "version": 3
   },
   "file_extension": ".py",
   "mimetype": "text/x-python",
   "name": "python",
   "nbconvert_exporter": "python",
   "pygments_lexer": "ipython3",
   "version": "3.7.3"
  }
 },
 "nbformat": 4,
 "nbformat_minor": 2
}
